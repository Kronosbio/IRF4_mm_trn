{
 "cells": [
  {
   "cell_type": "code",
   "execution_count": 1,
   "id": "b34f6ab2-ab0e-4c22-8d6a-c57a4b215fd9",
   "metadata": {},
   "outputs": [
    {
     "name": "stdout",
     "output_type": "stream",
     "text": [
      "usage: bamplot [options]\n",
      "\n",
      "optional arguments:\n",
      "  -h, --help            show this help message and exit\n",
      "  -b [BAM [BAM ...]], --bam [BAM [BAM ...]]\n",
      "                        Enter a comma separated list of .bam files to be\n",
      "                        processed.\n",
      "  -i INPUT, --input INPUT\n",
      "                        Enter .gff or genomic region e.g. chr1:+:1-1000.\n",
      "  -g GENOME, --genome GENOME\n",
      "                        specify a genome, HG18,HG19,MM8,MM9,MM10 are currently\n",
      "                        supported\n",
      "  -o OUTPUT, --output OUTPUT\n",
      "                        Enter the output folder.\n",
      "  --stretch-input STRETCH_INPUT\n",
      "                        Stretch the input regions to a minimum length in bp,\n",
      "                        e.g. 10000 (for 10kb)\n",
      "  -c COLOR, --color COLOR\n",
      "                        Enter a colon separated list of colors e.g.\n",
      "                        255,0,0:255,125,0, default samples the rainbow\n",
      "  -s SENSE, --sense SENSE\n",
      "                        Map to '+','-' or 'both' strands. Default maps to\n",
      "                        both.\n",
      "  -e EXTENSION, --extension EXTENSION\n",
      "                        Extends reads by n bp. Default value is 200bp\n",
      "  -r, --rpm             Normalizes density to reads per million (rpm) Default\n",
      "                        is False\n",
      "  -y YSCALE, --yScale YSCALE\n",
      "                        Choose either relative or uniform y axis scaling.\n",
      "                        options = 'relative,uniform' Default is relative\n",
      "                        scaling\n",
      "  -n NAMES, --names NAMES\n",
      "                        Enter a comma separated list of names for your bams\n",
      "  -p PLOT, --plot PLOT  Choose either all lines on a single plot or multiple\n",
      "                        plots. options = 'SINGLE,MULTIPLE,MERGE'\n",
      "  -t TITLE, --title TITLE\n",
      "                        Specify a title for the output plot(s), default will\n",
      "                        be the coordinate region\n",
      "  --scale SCALE         Enter a comma separated list of multiplicative scaling\n",
      "                        factors for your bams. Default is none\n",
      "  --save-temp           If flagged will save temporary files made by bamPlot\n",
      "  --bed BED             Add a space-delimited list of bed files to plot\n",
      "  --multi-page          If flagged will create a new pdf for each region\n",
      "  --verbose, -v         If verbose will print additional output\n"
     ]
    },
    {
     "data": {
      "text/plain": [
       "0"
      ]
     },
     "execution_count": 1,
     "metadata": {},
     "output_type": "execute_result"
    }
   ],
   "source": [
    "import os\n",
    "import pandas as pd\n",
    "os.system(\"bamplot -h\")"
   ]
  },
  {
   "cell_type": "code",
   "execution_count": 2,
   "id": "2a962b19-ea9a-4e5e-8568-ec0b0cbaa626",
   "metadata": {},
   "outputs": [
    {
     "data": {
      "text/plain": [
       "\"{'commit_hash': '24103c4',\\n 'commit_source': 'installation',\\n 'default_encoding': 'utf-8',\\n 'ipython_path': '/opt/miniconda3/envs/my_env/lib/python3.10/site-packages/IPython',\\n 'ipython_version': '8.2.0',\\n 'os_name': 'posix',\\n 'platform': 'Linux-4.14.158-101.185.amzn1.x86_64-x86_64-with-glibc2.17',\\n 'sys_executable': '/opt/miniconda3/envs/my_env/bin/python',\\n 'sys_platform': 'linux',\\n 'sys_version': '3.10.4 | packaged by conda-forge | (main, Mar 24 2022, '\\n                '17:39:04) [GCC 10.3.0]'}\""
      ]
     },
     "execution_count": 2,
     "metadata": {},
     "output_type": "execute_result"
    }
   ],
   "source": [
    "import IPython \n",
    "IPython.sys_info()"
   ]
  },
  {
   "cell_type": "code",
   "execution_count": 3,
   "id": "95761db0-31eb-495f-b170-dc128235ddb5",
   "metadata": {},
   "outputs": [],
   "source": [
    "def bamplot_cmd_internal(gene,region):\n",
    "\n",
    "    data_table = pd.read_table(\"/data/projects/IRF4_mm_trn_data/myeloma_public_data/tables/p300_interal_perturb_data_table.txt\")\n",
    "    qc_table = pd.read_csv(\"/data/projects/IRF4_mm_trn_data/myeloma_public_data/tables/MM_p300_internal_QC_report.csv\")\n",
    "\n",
    "    order = data_table['UNIQUE_ID'].astype(str).str[:2]\n",
    "    order = order.astype(int)\n",
    "    data_table['order'] = order\n",
    "    data_table = data_table.sort_values(by='order')\n",
    "\n",
    "    order = qc_table['Sample'].astype(str).str[:2]\n",
    "    order = order.astype(int)\n",
    "    qc_table['order'] = order\n",
    "    qc_table = qc_table.sort_values(by='order')\n",
    "\n",
    "    selected_columns = qc_table[['Sample', 'order','Scale_factor']]\n",
    "\n",
    "    data_table = data_table.merge(selected_columns, on='order', how='inner')\n",
    "\n",
    "    data_table['time'] = [0,0,1,1,3,3,6,6,24,24,0,0,1,1,3,3,6,6,24,24,0,0,1,1,3,3,6,6,24,24,0,0,0,0,-1,-1,-1,-1,-1,-1,-1,-1,-1,-1]\n",
    "\n",
    "    data_table['bam'] = data_table['FILE_PATH'] +data_table['UNIQUE_ID']+\".bam\"\n",
    "\n",
    "    tf_bams = data_table['bam'][30:34].str.cat(sep=',')\n",
    "\n",
    "    n0 = [\"H3K18Ac_0\",\"H3K18Ac_0\",\"H3K27Ac_0\",\"H3K27Ac_0\",\"H3K27me3_0\",\"H3K27me3_0\"]\n",
    "\n",
    "    #region = \"chr17:+:37847100-38060047\"\n",
    "    #gene =\"\"\n",
    "\n",
    "    cmd = \"mkdir /home/ec2-user/IRF4_mm_trn/mm_public_chip_scripts/figures/\" + gene\n",
    "    os.system(cmd)\n",
    "    o = \"/home/ec2-user/IRF4_mm_trn/mm_public_chip_scripts/figures/\"+ gene+\"/\"\n",
    "\n",
    "    g = \"hg19\" \n",
    "    e = \"2000\" \n",
    "    c0 = \"220,220,220:240,240,240\"\n",
    "    ct = \"90,90,90:65,65,65\"\n",
    "    c = c0 +\":\"+ ct\n",
    "    \n",
    "    np300 = \"IRF4,IRF4,p300,p300\"\n",
    "    \n",
    "    cp300 = \"244,64,247:230,70,243:51,232,232:45,208,208\"\n",
    "    y = \"UNIFORM\"\n",
    "    p = \"MERGE\"\n",
    "\n",
    "    i = region\n",
    "    title = gene+\"_tfs_bamplot\"\n",
    "\n",
    "    \n",
    "    cmd = 'bamplot -g %s -e %s -c %s -o %s -y %s -b %s -i %s -n %s -t %s -r --save-temp -p %s \\n\\n' % (g,e,cp300,o,y,tf_bams,i,np300,title,p)\n",
    "    print(cmd)\n",
    "    os.system(cmd)\n",
    "    \n",
    "    filtered_df = data_table[(data_table.time == 0)]\n",
    "    t0_bams = filtered_df['bam'][0:6].str.cat(sep=',')\n",
    "    t0_sf = filtered_df['Scale_factor'].astype('str').str.cat(sep=',')\n",
    "\n",
    "    n_0 = pd.Series(n0)\n",
    "    n_0 = n_0.str.cat(sep=',')\n",
    "    \n",
    "    title = gene+\"_bamplot_internal\"\n",
    "    cmd = 'bamplot -g %s -e %s -c %s -o %s -y %s -b %s -i %s -n %s -t %s -r --save-temp -p %s \\n\\n' % (g,e,c,o,y,t0_bams,i,n_0,title,p)\n",
    "    print(cmd)\n",
    "    os.system(cmd)\n",
    "    "
   ]
  },
  {
   "cell_type": "code",
   "execution_count": 4,
   "id": "a435eb09-3474-4ff2-85a5-5fb9b59c1ae5",
   "metadata": {
    "tags": []
   },
   "outputs": [],
   "source": [
    "def bamplot_cmd_public(gene,region):\n",
    "    data_table = pd.read_table(\"/data/projects/IRF4_mm_trn_data/myeloma_public_data/tables/mm_h3k27ac_table.txt\")\n",
    "\n",
    "    data_table['bam'] = data_table['FILE_PATH'] +data_table['UNIQUE_ID']+\".bam\"\n",
    "\n",
    "    bams = data_table['bam'].str.cat(sep=',')\n",
    "    \n",
    "    o = \"/home/ec2-user/IRF4_mm_trn/mm_public_chip_scripts/figures/\"+ gene+\"/\"\n",
    "\n",
    "    g = \"hg19\" \n",
    "    e = \"2000\" \n",
    "\n",
    "    names = \"cell_line,cell_line,cell_line,cell_line,cell_line,cell_line,cell_line,cell_line,cell_line,cell_line,patient,patient,patient,patient,cell_line,patient,patient,patient,patient,patient,patient,cell_line,cell_line,cell_line,cell_line,cell_line,cell_line,patient,patient,patient,patient,patient,patient,patient,patient,patient,patient\"\n",
    "\n",
    "    y = \"UNIFORM\"\n",
    "    p = \"MERGE\"\n",
    "\n",
    "    i = region\n",
    "    title = gene+\"_public_H3K27ac_bamplot\"\n",
    "\n",
    "    cmd = 'bamplot -g %s -e %s -o %s -y %s -b %s -i %s -n %s -t %s -r --save-temp -p %s \\n\\n' % (g,e,o,y,bams,i,names,title,p)\n",
    "\n",
    "    print(cmd)\n",
    "    os.system(cmd)\n"
   ]
  },
  {
   "cell_type": "code",
   "execution_count": 5,
   "id": "b030e70a-4495-4be7-9efe-58122871d59d",
   "metadata": {
    "tags": []
   },
   "outputs": [
    {
     "name": "stdout",
     "output_type": "stream",
     "text": [
      "bamplot -g hg19 -e 2000 -c 244,64,247:230,70,243:51,232,232:45,208,208 -o /home/ec2-user/IRF4_mm_trn/mm_public_chip_scripts/figures/IRF4/ -y UNIFORM -b /data/projects/p300_internal_mm/31_0EX7_0229Kronos_MM1S-No-Treatment-1_IRF4_hs_i45.bam,/data/projects/p300_internal_mm/32_0EX8_0229Kronos_MM1S-No-Treatment-2_IRF4_hs_i48.bam,/data/projects/p300_internal_mm/33_0EX9_0229Kronos_MM1S-No-Treatment-1_p300_hs_i49.bam,/data/projects/p300_internal_mm/34_0EXA_0229Kronos_MM1S-No-Treatment-2_p300_hs_i50.bam -i chr6:+:261715-458764 -n IRF4,IRF4,p300,p300 -t IRF4_tfs_bamplot -r --save-temp -p MERGE \n",
      "\n",
      "\n"
     ]
    },
    {
     "name": "stderr",
     "output_type": "stream",
     "text": [
      "mkdir: cannot create directory ‘/home/ec2-user/IRF4_mm_trn/mm_public_chip_scripts/figures/IRF4’: File exists\n"
     ]
    },
    {
     "name": "stdout",
     "output_type": "stream",
     "text": [
      "null device \n",
      "          1 \n",
      "\tLoading genome data from cache.\n",
      "bamplot -g hg19 -e 2000 -c 220,220,220:240,240,240:90,90,90:65,65,65 -o /home/ec2-user/IRF4_mm_trn/mm_public_chip_scripts/figures/IRF4/ -y UNIFORM -b /data/projects/p300_internal_mm/01_0EWN_0229Kronos_MM1S-No-Treatment-1_H3K18Ac_hs-dm_i02.bam,/data/projects/p300_internal_mm/02_0EWO_0229Kronos_MM1S-No-Treatment-2_H3K18Ac_hs-dm_i04.bam,/data/projects/p300_internal_mm/11_0EWX_0229Kronos_MM1S-No-Treatment-1_H3K27Ac_hs-dm_i20.bam,/data/projects/p300_internal_mm/12_0EWY_0229Kronos_MM1S-No-Treatment-2_H3K27Ac_hs-dm_i21.bam,/data/projects/p300_internal_mm/21_0F27_0229Kronos_MM1S-No-Treatment-1_H3K27me3_hs-dm_i02.bam,/data/projects/p300_internal_mm/22_0F28_0229Kronos_MM1S-No-Treatment-2_H3K27me3_hs-dm_i04.bam -i chr6:+:261715-458764 -n H3K18Ac_0,H3K18Ac_0,H3K27Ac_0,H3K27Ac_0,H3K27me3_0,H3K27me3_0 -t IRF4_bamplot_internal -r --save-temp -p MERGE \n",
      "\n",
      "\n",
      "null device \n",
      "          1 \n",
      "WARNING: FEWER COLORS THAN BAMS SPECIFIED. COLORS WILL BE RECYCLED\n",
      "\tLoading genome data from cache.\n",
      "bamplot -g hg19 -e 2000 -o /home/ec2-user/IRF4_mm_trn/mm_public_chip_scripts/figures/IRF4/ -y UNIFORM -b /data/projects/MM_TRN/bam_files/U266_jia.bam,/data/projects/MM_TRN/bam_files/RPMI8226_jia.bam,/data/projects/MM_TRN/bam_files/KMS28BM_jia.bam,/data/projects/MM_TRN/bam_files/KMS12_jia.bam,/data/projects/MM_TRN/bam_files/KMS11_jia.bam,/data/projects/MM_TRN/bam_files/JJN3_jia.bam,/data/projects/MM_TRN/bam_files/H929_jia.bam,/data/projects/MM_TRN/bam_files_jin/EJM.jin.bam,/data/projects/MM_TRN/bam_files_jin/KMS-12-BM.jin.bam,/data/projects/MM_TRN/bam_files_jin/LP-1.jin.bam,/data/projects/MM_TRN/bam_files_jin/MM11.jin.bam,/data/projects/MM_TRN/bam_files_jin/MM12.jin.bam,/data/projects/MM_TRN/bam_files_jin/MM14.jin.bam,/data/projects/MM_TRN/bam_files_jin/MM1.jin.bam,/data/projects/MM_TRN/bam_files_jin/MM.1S.jin.bam,/data/projects/MM_TRN/bam_files_jin/MM24.jin.bam,/data/projects/MM_TRN/bam_files_jin/MM25.jin.bam,/data/projects/MM_TRN/bam_files_jin/MM2.jin.bam,/data/projects/MM_TRN/bam_files_jin/MM3.jin.bam,/data/projects/MM_TRN/bam_files_jin/MM5.jin.bam,/data/projects/MM_TRN/bam_files_jin/MM8.jin.bam,/data/projects/MM_TRN/bam_files_jin/MOLP-2.jin.bam,/data/projects/MM_TRN/bam_files_jin/MOLP-8.jin.bam,/data/projects/MM_TRN/bam_files_jin/NCI-H929.jin.bam,/data/projects/MM_TRN/bam_files_jin/OPM-2.jin.bam,/data/projects/MM_TRN/bam_files_jin/RPMI8226.jin.bam,/data/projects/MM_TRN/bam_files_jin/U266.jin.bam,/data/projects/MM_TRN/bam_files/MM1_jia.bam,/data/projects/MM_TRN/bam_files/MM2_jia.bam,/data/projects/MM_TRN/bam_files/MM3_jia.bam,/data/projects/MM_TRN/bam_files/MM4_jia.bam,/data/projects/MM_TRN/bam_files/MM5_jia.bam,/data/projects/MM_TRN/bam_files/MM6_jia.bam,/data/projects/MM_TRN/bam_files/MM7_jia.bam,/data/projects/MM_TRN/bam_files/MM8_jia.bam,/data/projects/MM_TRN/bam_files/MM9_jia.bam,/data/projects/MM_TRN/bam_files/MM10_jia.bam -i chr6:+:261715-458764 -n cell_line,cell_line,cell_line,cell_line,cell_line,cell_line,cell_line,cell_line,cell_line,cell_line,patient,patient,patient,patient,cell_line,patient,patient,patient,patient,patient,patient,cell_line,cell_line,cell_line,cell_line,cell_line,cell_line,patient,patient,patient,patient,patient,patient,patient,patient,patient,patient -t IRF4_public_H3K27ac_bamplot -r --save-temp -p MERGE \n",
      "\n",
      "\n",
      "null device \n",
      "          1 \n",
      "\tLoading genome data from cache.\n"
     ]
    }
   ],
   "source": [
    "region = \"chr6:+:261715-458764\"\n",
    "gene =\"IRF4\"\n",
    "bamplot_cmd_internal(gene,region)\n",
    "bamplot_cmd_public(gene,region)"
   ]
  },
  {
   "cell_type": "code",
   "execution_count": null,
   "id": "77963f71-c936-4b32-b157-e3b29c2a594e",
   "metadata": {},
   "outputs": [],
   "source": []
  }
 ],
 "metadata": {
  "kernelspec": {
   "display_name": "my_env",
   "language": "python",
   "name": "my_env"
  },
  "language_info": {
   "codemirror_mode": {
    "name": "ipython",
    "version": 3
   },
   "file_extension": ".py",
   "mimetype": "text/x-python",
   "name": "python",
   "nbconvert_exporter": "python",
   "pygments_lexer": "ipython3",
   "version": "3.10.4"
  }
 },
 "nbformat": 4,
 "nbformat_minor": 5
}
