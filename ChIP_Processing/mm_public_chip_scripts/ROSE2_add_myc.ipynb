{
 "cells": [
  {
   "cell_type": "code",
   "execution_count": 11,
   "id": "1e9403d6-932c-492f-abd1-93e5cfcd5f91",
   "metadata": {
    "tags": []
   },
   "outputs": [],
   "source": [
    "### Cell lines EJM, JJN3, KMS11, KMS28BM, LP-1, OPM-2, and MM.1S had MYC t(8;14) observed via UCSC"
   ]
  },
  {
   "cell_type": "code",
   "execution_count": 12,
   "id": "2eb85942-76c3-46ae-b494-82478f0741ad",
   "metadata": {},
   "outputs": [
    {
     "data": {
      "text/plain": [
       "\"{'commit_hash': '24103c4',\\n 'commit_source': 'installation',\\n 'default_encoding': 'utf-8',\\n 'ipython_path': '/opt/miniconda3/envs/my_env/lib/python3.10/site-packages/IPython',\\n 'ipython_version': '8.2.0',\\n 'os_name': 'posix',\\n 'platform': 'Linux-4.14.158-101.185.amzn1.x86_64-x86_64-with-glibc2.17',\\n 'sys_executable': '/opt/miniconda3/envs/my_env/bin/python',\\n 'sys_platform': 'linux',\\n 'sys_version': '3.10.4 | packaged by conda-forge | (main, Mar 24 2022, '\\n                '17:39:04) [GCC 10.3.0]'}\""
      ]
     },
     "execution_count": 12,
     "metadata": {},
     "output_type": "execute_result"
    }
   ],
   "source": [
    "import IPython \n",
    "IPython.sys_info()"
   ]
  },
  {
   "cell_type": "code",
   "execution_count": 13,
   "id": "20dc3b36-5f00-4de7-b7a1-eb22707a042b",
   "metadata": {},
   "outputs": [
    {
     "name": "stderr",
     "output_type": "stream",
     "text": [
      "/tmp/ipykernel_25290/3575259324.py:22: SettingWithCopyWarning: \n",
      "A value is trying to be set on a copy of a slice from a DataFrame.\n",
      "Try using .loc[row_indexer,col_indexer] = value instead\n",
      "\n",
      "See the caveats in the documentation: https://pandas.pydata.org/pandas-docs/stable/user_guide/indexing.html#returning-a-view-versus-a-copy\n",
      "  filtered_df['CLOSEST_GENE'] = \"MYC\"\n",
      "/tmp/ipykernel_25290/3575259324.py:23: SettingWithCopyWarning: \n",
      "A value is trying to be set on a copy of a slice from a DataFrame.\n",
      "Try using .loc[row_indexer,col_indexer] = value instead\n",
      "\n",
      "See the caveats in the documentation: https://pandas.pydata.org/pandas-docs/stable/user_guide/indexing.html#returning-a-view-versus-a-copy\n",
      "  filtered_df['PROXIMAL_GENES'] = \"MYC\"\n",
      "/tmp/ipykernel_25290/3575259324.py:24: FutureWarning: The frame.append method is deprecated and will be removed from pandas in a future version. Use pandas.concat instead.\n",
      "  df = df.append(filtered_df)\n"
     ]
    }
   ],
   "source": [
    "##### Moving bed files from macs output to beds folder\n",
    "import pandas as pd\n",
    "import os\n",
    "\n",
    "range_start = 106137436\n",
    "range_end = 106336347\n",
    "\n",
    "# Specify the root directory where you want to start searching for files\n",
    "root_directory = '/data/projects/IRF4_mm_trn_data/myeloma_public_data/rose/EJM.H3K27ac_ROSE/'\n",
    "\n",
    "# Iterate through all directories and subdirectories\n",
    "for root, dires, files in os.walk(root_directory):\n",
    "    for file in files:\n",
    "        \n",
    "        # Check if the file ends with \"enhancer to gene\"\n",
    "        if file.endswith(\"_SuperEnhancers_ENHANCER_TO_GENE.txt\"):\n",
    "            source_file_path = os.path.join(root, file)\n",
    "            base_path, file_extension = os.path.splitext(source_file_path)\n",
    "            df = pd.read_table(source_file_path)\n",
    "            overlap_condition = (df['CHROM'] == \"chr14\") & (df['START'].between(range_start, range_end) | df['STOP'].between(range_start, range_end))\n",
    "            filtered_df = df[overlap_condition]\n",
    "            filtered_df['CLOSEST_GENE'] = \"MYC\"\n",
    "            filtered_df['PROXIMAL_GENES'] = \"MYC\"\n",
    "            df = df.append(filtered_df)\n",
    "            df.to_csv(base_path+ \"_with_MYC.txt\", index=False, sep='\\t') \n"
   ]
  },
  {
   "cell_type": "code",
   "execution_count": 14,
   "id": "67daf443-53d7-4642-9f16-af8909b10236",
   "metadata": {},
   "outputs": [
    {
     "name": "stderr",
     "output_type": "stream",
     "text": [
      "/tmp/ipykernel_25290/1125042248.py:22: SettingWithCopyWarning: \n",
      "A value is trying to be set on a copy of a slice from a DataFrame.\n",
      "Try using .loc[row_indexer,col_indexer] = value instead\n",
      "\n",
      "See the caveats in the documentation: https://pandas.pydata.org/pandas-docs/stable/user_guide/indexing.html#returning-a-view-versus-a-copy\n",
      "  filtered_df['CLOSEST_GENE'] = \"MYC\"\n",
      "/tmp/ipykernel_25290/1125042248.py:23: SettingWithCopyWarning: \n",
      "A value is trying to be set on a copy of a slice from a DataFrame.\n",
      "Try using .loc[row_indexer,col_indexer] = value instead\n",
      "\n",
      "See the caveats in the documentation: https://pandas.pydata.org/pandas-docs/stable/user_guide/indexing.html#returning-a-view-versus-a-copy\n",
      "  filtered_df['PROXIMAL_GENES'] = \"MYC\"\n",
      "/tmp/ipykernel_25290/1125042248.py:24: FutureWarning: The frame.append method is deprecated and will be removed from pandas in a future version. Use pandas.concat instead.\n",
      "  df = df.append(filtered_df)\n"
     ]
    }
   ],
   "source": [
    "##### Moving bed files from macs output to beds folder\n",
    "import pandas as pd\n",
    "import os\n",
    "\n",
    "range_start = 106137436\n",
    "range_end = 106336347\n",
    "\n",
    "# Specify the root directory where you want to start searching for files\n",
    "root_directory = '/data/projects/IRF4_mm_trn_data/myeloma_public_data/rose/JJN3_H3K27ac_ROSE/'\n",
    "\n",
    "# Iterate through all directories and subdirectories\n",
    "for root, dires, files in os.walk(root_directory):\n",
    "    for file in files:\n",
    "        \n",
    "        # Check if the file ends with \"enhancer to gene\"\n",
    "        if file.endswith(\"_SuperEnhancers_ENHANCER_TO_GENE.txt\"):\n",
    "            source_file_path = os.path.join(root, file)\n",
    "            base_path, file_extension = os.path.splitext(source_file_path)\n",
    "            df = pd.read_table(source_file_path)\n",
    "            overlap_condition = (df['CHROM'] == \"chr14\") & (df['START'].between(range_start, range_end) | df['STOP'].between(range_start, range_end))\n",
    "            filtered_df = df[overlap_condition]\n",
    "            filtered_df['CLOSEST_GENE'] = \"MYC\"\n",
    "            filtered_df['PROXIMAL_GENES'] = \"MYC\"\n",
    "            df = df.append(filtered_df)\n",
    "            df.to_csv(base_path+ \"_with_MYC.txt\", index=False, sep='\\t') \n"
   ]
  },
  {
   "cell_type": "code",
   "execution_count": 15,
   "id": "2144ee2b-c5c4-4171-ab9a-c5d427b4c6d3",
   "metadata": {},
   "outputs": [
    {
     "name": "stderr",
     "output_type": "stream",
     "text": [
      "/tmp/ipykernel_25290/4234828341.py:22: SettingWithCopyWarning: \n",
      "A value is trying to be set on a copy of a slice from a DataFrame.\n",
      "Try using .loc[row_indexer,col_indexer] = value instead\n",
      "\n",
      "See the caveats in the documentation: https://pandas.pydata.org/pandas-docs/stable/user_guide/indexing.html#returning-a-view-versus-a-copy\n",
      "  filtered_df['CLOSEST_GENE'] = \"MYC\"\n",
      "/tmp/ipykernel_25290/4234828341.py:23: SettingWithCopyWarning: \n",
      "A value is trying to be set on a copy of a slice from a DataFrame.\n",
      "Try using .loc[row_indexer,col_indexer] = value instead\n",
      "\n",
      "See the caveats in the documentation: https://pandas.pydata.org/pandas-docs/stable/user_guide/indexing.html#returning-a-view-versus-a-copy\n",
      "  filtered_df['PROXIMAL_GENES'] = \"MYC\"\n",
      "/tmp/ipykernel_25290/4234828341.py:24: FutureWarning: The frame.append method is deprecated and will be removed from pandas in a future version. Use pandas.concat instead.\n",
      "  df = df.append(filtered_df)\n"
     ]
    }
   ],
   "source": [
    "##### Moving bed files from macs output to beds folder\n",
    "import pandas as pd\n",
    "import os\n",
    "\n",
    "range_start = 106137436\n",
    "range_end = 106336347\n",
    "\n",
    "# Specify the root directory where you want to start searching for files\n",
    "root_directory = '/data/projects/IRF4_mm_trn_data/myeloma_public_data/rose/KMS11_H3K27ac_ROSE/'\n",
    "\n",
    "# Iterate through all directories and subdirectories\n",
    "for root, dires, files in os.walk(root_directory):\n",
    "    for file in files:\n",
    "        \n",
    "        # Check if the file ends with \"enhancer to gene\"\n",
    "        if file.endswith(\"_SuperEnhancers_ENHANCER_TO_GENE.txt\"):\n",
    "            source_file_path = os.path.join(root, file)\n",
    "            base_path, file_extension = os.path.splitext(source_file_path)\n",
    "            df = pd.read_table(source_file_path)\n",
    "            overlap_condition = (df['CHROM'] == \"chr14\") & (df['START'].between(range_start, range_end) | df['STOP'].between(range_start, range_end))\n",
    "            filtered_df = df[overlap_condition]\n",
    "            filtered_df['CLOSEST_GENE'] = \"MYC\"\n",
    "            filtered_df['PROXIMAL_GENES'] = \"MYC\"\n",
    "            df = df.append(filtered_df)\n",
    "            df.to_csv(base_path+ \"_with_MYC.txt\", index=False, sep='\\t') \n"
   ]
  },
  {
   "cell_type": "code",
   "execution_count": 16,
   "id": "d4891972-c8ec-4384-850b-3c79cfeed5a7",
   "metadata": {},
   "outputs": [
    {
     "name": "stderr",
     "output_type": "stream",
     "text": [
      "/tmp/ipykernel_25290/10853758.py:22: SettingWithCopyWarning: \n",
      "A value is trying to be set on a copy of a slice from a DataFrame.\n",
      "Try using .loc[row_indexer,col_indexer] = value instead\n",
      "\n",
      "See the caveats in the documentation: https://pandas.pydata.org/pandas-docs/stable/user_guide/indexing.html#returning-a-view-versus-a-copy\n",
      "  filtered_df['CLOSEST_GENE'] = \"MYC\"\n",
      "/tmp/ipykernel_25290/10853758.py:23: SettingWithCopyWarning: \n",
      "A value is trying to be set on a copy of a slice from a DataFrame.\n",
      "Try using .loc[row_indexer,col_indexer] = value instead\n",
      "\n",
      "See the caveats in the documentation: https://pandas.pydata.org/pandas-docs/stable/user_guide/indexing.html#returning-a-view-versus-a-copy\n",
      "  filtered_df['PROXIMAL_GENES'] = \"MYC\"\n",
      "/tmp/ipykernel_25290/10853758.py:24: FutureWarning: The frame.append method is deprecated and will be removed from pandas in a future version. Use pandas.concat instead.\n",
      "  df = df.append(filtered_df)\n"
     ]
    }
   ],
   "source": [
    "##### Moving bed files from macs output to beds folder\n",
    "import pandas as pd\n",
    "import os\n",
    "\n",
    "range_start = 106137436\n",
    "range_end = 106336347\n",
    "\n",
    "# Specify the root directory where you want to start searching for files\n",
    "root_directory = '/data/projects/IRF4_mm_trn_data/myeloma_public_data/rose/KMS28BM_H3K27ac_ROSE/'\n",
    "\n",
    "# Iterate through all directories and subdirectories\n",
    "for root, dires, files in os.walk(root_directory):\n",
    "    for file in files:\n",
    "        \n",
    "        # Check if the file ends with \"enhancer to gene\"\n",
    "        if file.endswith(\"_SuperEnhancers_ENHANCER_TO_GENE.txt\"):\n",
    "            source_file_path = os.path.join(root, file)\n",
    "            base_path, file_extension = os.path.splitext(source_file_path)\n",
    "            df = pd.read_table(source_file_path)\n",
    "            overlap_condition = (df['CHROM'] == \"chr14\") & (df['START'].between(range_start, range_end) | df['STOP'].between(range_start, range_end))\n",
    "            filtered_df = df[overlap_condition]\n",
    "            filtered_df['CLOSEST_GENE'] = \"MYC\"\n",
    "            filtered_df['PROXIMAL_GENES'] = \"MYC\"\n",
    "            df = df.append(filtered_df)\n",
    "            df.to_csv(base_path+ \"_with_MYC.txt\", index=False, sep='\\t') \n"
   ]
  },
  {
   "cell_type": "code",
   "execution_count": 17,
   "id": "2c863f16-4ee5-4e25-93f2-7217cdd97985",
   "metadata": {},
   "outputs": [
    {
     "name": "stderr",
     "output_type": "stream",
     "text": [
      "/tmp/ipykernel_25290/1922885871.py:22: SettingWithCopyWarning: \n",
      "A value is trying to be set on a copy of a slice from a DataFrame.\n",
      "Try using .loc[row_indexer,col_indexer] = value instead\n",
      "\n",
      "See the caveats in the documentation: https://pandas.pydata.org/pandas-docs/stable/user_guide/indexing.html#returning-a-view-versus-a-copy\n",
      "  filtered_df['CLOSEST_GENE'] = \"MYC\"\n",
      "/tmp/ipykernel_25290/1922885871.py:23: SettingWithCopyWarning: \n",
      "A value is trying to be set on a copy of a slice from a DataFrame.\n",
      "Try using .loc[row_indexer,col_indexer] = value instead\n",
      "\n",
      "See the caveats in the documentation: https://pandas.pydata.org/pandas-docs/stable/user_guide/indexing.html#returning-a-view-versus-a-copy\n",
      "  filtered_df['PROXIMAL_GENES'] = \"MYC\"\n",
      "/tmp/ipykernel_25290/1922885871.py:24: FutureWarning: The frame.append method is deprecated and will be removed from pandas in a future version. Use pandas.concat instead.\n",
      "  df = df.append(filtered_df)\n"
     ]
    }
   ],
   "source": [
    "##### Moving bed files from macs output to beds folder\n",
    "import pandas as pd\n",
    "import os\n",
    "\n",
    "range_start = 106137436\n",
    "range_end = 106336347\n",
    "\n",
    "# Specify the root directory where you want to start searching for files\n",
    "root_directory = '/data/projects/IRF4_mm_trn_data/myeloma_public_data/rose/LP-1.H3K27ac_ROSE/'\n",
    "\n",
    "# Iterate through all directories and subdirectories\n",
    "for root, dires, files in os.walk(root_directory):\n",
    "    for file in files:\n",
    "        \n",
    "        # Check if the file ends with \"enhancer to gene\"\n",
    "        if file.endswith(\"_SuperEnhancers_ENHANCER_TO_GENE.txt\"):\n",
    "            source_file_path = os.path.join(root, file)\n",
    "            base_path, file_extension = os.path.splitext(source_file_path)\n",
    "            df = pd.read_table(source_file_path)\n",
    "            overlap_condition = (df['CHROM'] == \"chr14\") & (df['START'].between(range_start, range_end) | df['STOP'].between(range_start, range_end))\n",
    "            filtered_df = df[overlap_condition]\n",
    "            filtered_df['CLOSEST_GENE'] = \"MYC\"\n",
    "            filtered_df['PROXIMAL_GENES'] = \"MYC\"\n",
    "            df = df.append(filtered_df)\n",
    "            df.to_csv(base_path+ \"_with_MYC.txt\", index=False, sep='\\t') \n"
   ]
  },
  {
   "cell_type": "code",
   "execution_count": 18,
   "id": "294a8e01-802f-4b52-8c8a-b0ad71133e9d",
   "metadata": {},
   "outputs": [
    {
     "name": "stderr",
     "output_type": "stream",
     "text": [
      "/tmp/ipykernel_25290/2054238748.py:22: SettingWithCopyWarning: \n",
      "A value is trying to be set on a copy of a slice from a DataFrame.\n",
      "Try using .loc[row_indexer,col_indexer] = value instead\n",
      "\n",
      "See the caveats in the documentation: https://pandas.pydata.org/pandas-docs/stable/user_guide/indexing.html#returning-a-view-versus-a-copy\n",
      "  filtered_df['CLOSEST_GENE'] = \"MYC\"\n",
      "/tmp/ipykernel_25290/2054238748.py:23: SettingWithCopyWarning: \n",
      "A value is trying to be set on a copy of a slice from a DataFrame.\n",
      "Try using .loc[row_indexer,col_indexer] = value instead\n",
      "\n",
      "See the caveats in the documentation: https://pandas.pydata.org/pandas-docs/stable/user_guide/indexing.html#returning-a-view-versus-a-copy\n",
      "  filtered_df['PROXIMAL_GENES'] = \"MYC\"\n",
      "/tmp/ipykernel_25290/2054238748.py:24: FutureWarning: The frame.append method is deprecated and will be removed from pandas in a future version. Use pandas.concat instead.\n",
      "  df = df.append(filtered_df)\n"
     ]
    }
   ],
   "source": [
    "##### Moving bed files from macs output to beds folder\n",
    "import pandas as pd\n",
    "import os\n",
    "\n",
    "range_start = 106137436\n",
    "range_end = 106336347\n",
    "\n",
    "# Specify the root directory where you want to start searching for files\n",
    "root_directory = '/data/projects/IRF4_mm_trn_data/myeloma_public_data/rose/OPM-2.H3K27ac_ROSE/'\n",
    "\n",
    "# Iterate through all directories and subdirectories\n",
    "for root, dires, files in os.walk(root_directory):\n",
    "    for file in files:\n",
    "        \n",
    "        # Check if the file ends with \"enhancer to gene\"\n",
    "        if file.endswith(\"_SuperEnhancers_ENHANCER_TO_GENE.txt\"):\n",
    "            source_file_path = os.path.join(root, file)\n",
    "            base_path, file_extension = os.path.splitext(source_file_path)\n",
    "            df = pd.read_table(source_file_path)\n",
    "            overlap_condition = (df['CHROM'] == \"chr14\") & (df['START'].between(range_start, range_end) | df['STOP'].between(range_start, range_end))\n",
    "            filtered_df = df[overlap_condition]\n",
    "            filtered_df['CLOSEST_GENE'] = \"MYC\"\n",
    "            filtered_df['PROXIMAL_GENES'] = \"MYC\"\n",
    "            df = df.append(filtered_df)\n",
    "            df.to_csv(base_path+ \"_with_MYC.txt\", index=False, sep='\\t') \n"
   ]
  },
  {
   "cell_type": "code",
   "execution_count": 19,
   "id": "95bba0df-9709-4d96-a392-a639875cc886",
   "metadata": {},
   "outputs": [
    {
     "name": "stderr",
     "output_type": "stream",
     "text": [
      "/tmp/ipykernel_25290/1256464472.py:22: SettingWithCopyWarning: \n",
      "A value is trying to be set on a copy of a slice from a DataFrame.\n",
      "Try using .loc[row_indexer,col_indexer] = value instead\n",
      "\n",
      "See the caveats in the documentation: https://pandas.pydata.org/pandas-docs/stable/user_guide/indexing.html#returning-a-view-versus-a-copy\n",
      "  filtered_df['CLOSEST_GENE'] = \"MYC\"\n",
      "/tmp/ipykernel_25290/1256464472.py:23: SettingWithCopyWarning: \n",
      "A value is trying to be set on a copy of a slice from a DataFrame.\n",
      "Try using .loc[row_indexer,col_indexer] = value instead\n",
      "\n",
      "See the caveats in the documentation: https://pandas.pydata.org/pandas-docs/stable/user_guide/indexing.html#returning-a-view-versus-a-copy\n",
      "  filtered_df['PROXIMAL_GENES'] = \"MYC\"\n",
      "/tmp/ipykernel_25290/1256464472.py:24: FutureWarning: The frame.append method is deprecated and will be removed from pandas in a future version. Use pandas.concat instead.\n",
      "  df = df.append(filtered_df)\n"
     ]
    }
   ],
   "source": [
    "##### Moving bed files from macs output to beds folder\n",
    "import pandas as pd\n",
    "import os\n",
    "\n",
    "range_start = 106137436\n",
    "range_end = 106336347\n",
    "\n",
    "# Specify the root directory where you want to start searching for files\n",
    "root_directory = '/data/projects/IRF4_mm_trn_data/myeloma_public_data/rose/MM.1S.H3K27ac_ROSE/'\n",
    "\n",
    "# Iterate through all directories and subdirectories\n",
    "for root, dires, files in os.walk(root_directory):\n",
    "    for file in files:\n",
    "        \n",
    "        # Check if the file ends with \"enhancer to gene\"\n",
    "        if file.endswith(\"_SuperEnhancers_ENHANCER_TO_GENE.txt\"):\n",
    "            source_file_path = os.path.join(root, file)\n",
    "            base_path, file_extension = os.path.splitext(source_file_path)\n",
    "            df = pd.read_table(source_file_path)\n",
    "            overlap_condition = (df['CHROM'] == \"chr14\") & (df['START'].between(range_start, range_end) | df['STOP'].between(range_start, range_end))\n",
    "            filtered_df = df[overlap_condition]\n",
    "            filtered_df['CLOSEST_GENE'] = \"MYC\"\n",
    "            filtered_df['PROXIMAL_GENES'] = \"MYC\"\n",
    "            df = df.append(filtered_df)\n",
    "            df.to_csv(base_path+ \"_with_MYC.txt\", index=False, sep='\\t') \n"
   ]
  },
  {
   "cell_type": "code",
   "execution_count": null,
   "id": "c9651061-4a9b-4b52-82e3-46d0b759aea4",
   "metadata": {},
   "outputs": [],
   "source": []
  }
 ],
 "metadata": {
  "kernelspec": {
   "display_name": "my_env",
   "language": "python",
   "name": "my_env"
  },
  "language_info": {
   "codemirror_mode": {
    "name": "ipython",
    "version": 3
   },
   "file_extension": ".py",
   "mimetype": "text/x-python",
   "name": "python",
   "nbconvert_exporter": "python",
   "pygments_lexer": "ipython3",
   "version": "3.10.4"
  }
 },
 "nbformat": 4,
 "nbformat_minor": 5
}
