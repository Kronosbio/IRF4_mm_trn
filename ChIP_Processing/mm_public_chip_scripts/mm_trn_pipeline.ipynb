{
 "cells": [
  {
   "cell_type": "code",
   "execution_count": 1,
   "id": "e5de25d3-6fc4-489e-8bac-4e727520496c",
   "metadata": {},
   "outputs": [
    {
     "name": "stdout",
     "output_type": "stream",
     "text": [
      "\n",
      "Using following version of python:\n",
      "\n",
      "3.10.4 | packaged by conda-forge | (main, Mar 24 2022, 17:39:04) [GCC 10.3.0]\n",
      "\n",
      "\n",
      "\n"
     ]
    }
   ],
   "source": [
    "import sys, os\n",
    "\n",
    "# Get the script's full local path\n",
    "whereAmI = os.path.dirname(os.path.abspath(''))\n",
    "\n",
    "pipeline_dir = '/home/ec2-user/IRF4_mm_trn/mm_public_chip_scripts/pipeline-tools-main/'\n",
    "\n",
    "###pipeline tools, https://github.com/linlabcode/pipeline\n",
    "\n",
    "sys.path.append(whereAmI)\n",
    "sys.path.append(pipeline_dir)\n",
    "\n",
    "import pipeline_tools.utils.utils as utils\n",
    "import pipeline_kronos\n",
    "import string\n",
    "import numpy\n",
    "import os\n",
    "import re\n",
    "from collections import defaultdict\n",
    "import subprocess"
   ]
  },
  {
   "cell_type": "code",
   "execution_count": 2,
   "id": "b8e32006-2fb1-4a17-86f8-801b6a233553",
   "metadata": {},
   "outputs": [
    {
     "data": {
      "text/plain": [
       "\"{'commit_hash': '24103c4',\\n 'commit_source': 'installation',\\n 'default_encoding': 'utf-8',\\n 'ipython_path': '/opt/miniconda3/envs/my_env/lib/python3.10/site-packages/IPython',\\n 'ipython_version': '8.2.0',\\n 'os_name': 'posix',\\n 'platform': 'Linux-4.14.158-101.185.amzn1.x86_64-x86_64-with-glibc2.17',\\n 'sys_executable': '/opt/miniconda3/envs/my_env/bin/python',\\n 'sys_platform': 'linux',\\n 'sys_version': '3.10.4 | packaged by conda-forge | (main, Mar 24 2022, '\\n                '17:39:04) [GCC 10.3.0]'}\""
      ]
     },
     "execution_count": 2,
     "metadata": {},
     "output_type": "execute_result"
    }
   ],
   "source": [
    "import IPython \n",
    "IPython.sys_info()"
   ]
  },
  {
   "cell_type": "code",
   "execution_count": 4,
   "id": "81f66a9d-22e7-4a77-85eb-4a9ab1ff8f0d",
   "metadata": {},
   "outputs": [
    {
     "name": "stdout",
     "output_type": "stream",
     "text": [
      "folder /data/projects/IRF4_mm_trn_data/myeloma_public_data/scripts/ does not exist\n"
     ]
    }
   ],
   "source": [
    "###This code chunk is more intended to use Charles' pipeline functions. It can be used in the future when processing a ton of samples simultaneously.\n",
    "\n",
    "#==========================================================================\n",
    "#============================PARAMETERS====================================\n",
    "#==========================================================================\n",
    "\n",
    "projectName = 'myeloma_public_data'\n",
    "genome ='hg19'\n",
    "annotFile = '%s/annotation/%s_refseq.ucsc' % (pipeline_dir,genome)\n",
    "\n",
    "#project folders\n",
    "projectFolder = '/data/projects/IRF4_mm_trn_data/myeloma_public_data/'  #PATH TO YOUR PROJECT FOLDER\n",
    "\n",
    "\n",
    "projectFolder = utils.format_folder(projectFolder,True)\n",
    "#standard folder names\n",
    "gffFolder ='%sgff/' % (projectFolder)\n",
    "macsFolder = '%smacsFolder/' % (projectFolder)\n",
    "macsEnrichedFolder = '%smacsEnriched/' % (projectFolder)\n",
    "mappedEnrichedFolder = '%smappedEnriched/' % (projectFolder)\n",
    "mappedFolder = '%smappedFolder/' % (projectFolder)\n",
    "wiggleFolder = '%swiggles/' % (projectFolder)\n",
    "metaFolder = '%smeta/' % (projectFolder)\n",
    "metaRoseFolder = '%smeta_rose/' % (projectFolder)\n",
    "roseFolder = '%srose/' % (projectFolder)\n",
    "fastaFolder = '%sfasta/' % (projectFolder)\n",
    "bedFolder = '%sbeds/' % (projectFolder)\n",
    "figuresFolder = '%sfigures/' % (projectFolder)\n",
    "geneListFolder = '%sgeneListFolder/' % (projectFolder)\n",
    "bedFolder = '%sbeds/' % (projectFolder)\n",
    "signalFolder = '%ssignalTables/' % (projectFolder)\n",
    "tableFolder = '%stables/' % (projectFolder)\n",
    "tableFolder = '%sscripts/' % (projectFolder)\n",
    "\n",
    "#mask Files\n",
    "\n",
    "#making folders\n",
    "folderList = [gffFolder,macsFolder,macsEnrichedFolder,mappedEnrichedFolder,mappedFolder,wiggleFolder,metaFolder,metaRoseFolder,roseFolder,fastaFolder,figuresFolder,geneListFolder,bedFolder,signalFolder,tableFolder]\n",
    "\n",
    "for folder in folderList:\n",
    "    pipeline_kronos.formatFolder(folder,True)\n"
   ]
  },
  {
   "cell_type": "markdown",
   "id": "a781e60f-b17f-40af-b6a5-6fed04348109",
   "metadata": {},
   "source": [
    "***MACS1.4***"
   ]
  },
  {
   "cell_type": "raw",
   "id": "f42e2b49-4f2f-470a-8836-3050d14fc4b6",
   "metadata": {},
   "source": [
    "### Output ran and used. \n",
    "\n",
    "os.system(\"sudo chmod +x ./macs_cmds.sh\")\n",
    "os.system(\"./macs_cmds.sh &> macs.log\")"
   ]
  },
  {
   "cell_type": "raw",
   "id": "c115ded9-1faa-451b-8b22-fbe10c779f94",
   "metadata": {
    "tags": []
   },
   "source": [
    "##### Moving bed files from macs output to beds folder, simplicity of other code scripts was to move to beds destination. \n",
    "\n",
    "import os\n",
    "import shutil\n",
    "\n",
    "root_directory = '/data/projects/IRF4_mm_trn_data/myeloma_public_data/macsFolder/'\n",
    "destination_directory = '/data/projects/IRF4_mm_trn_data/myeloma_public_data/beds/'\n",
    "\n",
    "# Iterate through all directories and subdirectories\n",
    "for root, dirs, files in os.walk(root_directory):\n",
    "    for file in files:\n",
    "        # Check if the file ends with \"_peaks.bed\"\n",
    "        if file.endswith(\"_peaks.bed\"):\n",
    "            # Construct the full path of the source file\n",
    "            source_file_path = os.path.join(root, file)\n",
    "\n",
    "            # Construct the full path of the destination file\n",
    "            destination_file_path = os.path.join(destination_directory, file)\n",
    "\n",
    "            # Move the file to the destination directory\n",
    "            shutil.move(source_file_path, destination_file_path)\n",
    "\n",
    "            print(f\"Moved '{file}' to '{destination_directory}'\")"
   ]
  },
  {
   "cell_type": "markdown",
   "id": "aecec769-ab9f-4219-82eb-0121405789f1",
   "metadata": {},
   "source": [
    "***ROSE2***"
   ]
  },
  {
   "cell_type": "code",
   "execution_count": 8,
   "id": "3bff4516-ecee-45f5-a2f1-36c2f0e7a789",
   "metadata": {},
   "outputs": [
    {
     "data": {
      "text/plain": [
       "0"
      ]
     },
     "execution_count": 8,
     "metadata": {},
     "output_type": "execute_result"
    }
   ],
   "source": [
    "os.system(\"sudo chmod +755 /home/ec2-user/IRF4_mm_trn/mm_public_chip_scripts/rose.sh\")\n",
    "os.system(\"/home/ec2-user/IRF4_mm_trn/mm_public_chip_scripts/rose.sh &> ROSE2.log\")"
   ]
  },
  {
   "cell_type": "code",
   "execution_count": null,
   "id": "d1be0086-f428-4413-9877-80e3308d78d5",
   "metadata": {},
   "outputs": [],
   "source": [
    "########### update with MYC definitions using ROSE2_add_myc\n",
    "### Cell lines EJM, JJN3, KMS11, KMS28BM, LP-1, OPM-2, and MM.1S had MYC IGH translocation observed via UCSC"
   ]
  },
  {
   "cell_type": "markdown",
   "id": "d909d3c9-0809-496f-8efa-1abc4630bc0a",
   "metadata": {},
   "source": [
    "***CRC***"
   ]
  },
  {
   "cell_type": "code",
   "execution_count": 9,
   "id": "c6be5730-83b7-4800-8ffa-3611f1a63d87",
   "metadata": {},
   "outputs": [
    {
     "data": {
      "text/plain": [
       "0"
      ]
     },
     "execution_count": 9,
     "metadata": {},
     "output_type": "execute_result"
    }
   ],
   "source": [
    "os.system(\"sudo chmod +755 ./crc_cmds.sh\")\n",
    "os.system(\"./crc_cmds.sh &> crc.log\")"
   ]
  },
  {
   "cell_type": "code",
   "execution_count": 10,
   "id": "15f2d05c-619f-4e82-b483-3a86719a4a5a",
   "metadata": {},
   "outputs": [],
   "source": [
    "import pandas as pd\n",
    "import os\n"
   ]
  },
  {
   "cell_type": "code",
   "execution_count": 11,
   "id": "ccf76ba5-7c36-4baf-bf89-6be3544d9628",
   "metadata": {},
   "outputs": [
    {
     "name": "stdout",
     "output_type": "stream",
     "text": [
      "U266_H3K27ac_EDGE_LIST.txt\n",
      "MM11.H3K27ac_EDGE_LIST.txt\n",
      "KMS12_H3K27ac_EDGE_LIST.txt\n",
      "MM24.H3K27ac_EDGE_LIST.txt\n",
      "MM1.H3K27ac_EDGE_LIST.txt\n",
      "MOLP-2.H3K27ac_EDGE_LIST.txt\n",
      "EJM.H3K27ac_EDGE_LIST.txt\n",
      "KMS28BM_H3K27ac_EDGE_LIST.txt\n",
      "MM2.H3K27ac_EDGE_LIST.txt\n",
      "MM3.H3K27ac_EDGE_LIST.txt\n",
      "MM1_jia_EDGE_LIST.txt\n",
      "MM4_jia_EDGE_LIST.txt\n",
      "MM8.H3K27ac_EDGE_LIST.txt\n",
      "MM5.H3K27ac_EDGE_LIST.txt\n",
      "MM.1S.H3K27ac_EDGE_LIST.txt\n",
      "KMS11_H3K27ac_EDGE_LIST.txt\n",
      "MM7_jia_EDGE_LIST.txt\n",
      "NCI-H929.H3K27ac_EDGE_LIST.txt\n",
      "OPM-2.H3K27ac_EDGE_LIST.txt\n",
      "RPMI8226_H3K27ac_EDGE_LIST.txt\n",
      "MM2_jia_EDGE_LIST.txt\n",
      "JJN3_H3K27ac_EDGE_LIST.txt\n",
      "LP-1.H3K27ac_EDGE_LIST.txt\n",
      "MM6_jia_EDGE_LIST.txt\n",
      "MM3_jia_EDGE_LIST.txt\n",
      "U266.H3K27ac_EDGE_LIST.txt\n",
      "MOLP-8.H3K27ac_EDGE_LIST.txt\n",
      "MM10_jia_EDGE_LIST.txt\n",
      "MM5_jia_EDGE_LIST.txt\n",
      "H929_H3K27ac_EDGE_LIST.txt\n",
      "MM12.H3K27ac_EDGE_LIST.txt\n",
      "MM8_jia_EDGE_LIST.txt\n",
      "RPMI8226.H3K27ac_EDGE_LIST.txt\n",
      "MM25.H3K27ac_EDGE_LIST.txt\n",
      "MM14.H3K27ac_EDGE_LIST.txt\n",
      "MM9_jia_EDGE_LIST.txt\n",
      "KMS-12-BM.H3K27ac_EDGE_LIST.txt\n"
     ]
    }
   ],
   "source": [
    "dataframes = []\n",
    "for filename in os.listdir(\"/data/projects/IRF4_mm_trn_data/_mm_trn_data/myeloma_public_data/crc/\"):\n",
    "    if \"EDGE_LIST\" in filename:\n",
    "        temp = pd.read_table(\"/data/projects/IRF4_mm_trn_data/myeloma_public_data/crc/\"+filename)\n",
    "        temp[\"file\"] = filename\n",
    "        dataframes.append(temp)  \n",
    "        print(filename)"
   ]
  },
  {
   "cell_type": "code",
   "execution_count": 21,
   "id": "342154b7-c71b-4062-a9a6-07d41282a97b",
   "metadata": {},
   "outputs": [],
   "source": [
    "#### due to naming conventions, MM.1S from Jin et al 2018 not used in final CRC analysis. Bug found post analysis.\n",
    "#### This sample was ignored from saturation analysis as well as TRN building"
   ]
  },
  {
   "cell_type": "code",
   "execution_count": 12,
   "id": "5c7ee96d-4fbf-4ab7-b28f-efb04abc54dc",
   "metadata": {},
   "outputs": [],
   "source": [
    "crc_all = pd.concat(dataframes,ignore_index=True,axis=0)\n",
    "crc_all.to_csv(\"/data/projects/IRF4_mm_trn_data/myeloma_public_data/tables/crc_total_public_chip.csv\")"
   ]
  },
  {
   "cell_type": "code",
   "execution_count": 19,
   "id": "e3aae07f-dea0-48f2-8894-87a4af9df897",
   "metadata": {},
   "outputs": [],
   "source": [
    "dataframes = []\n",
    "for filename in os.listdir(\"/data/projects/IRF4_mm_trn_data/myeloma_public_data/crc/\"):\n",
    "    if \"DEGREE_TABLE\" in filename:\n",
    "        temp = pd.read_table(\"//data/projects/IRF4_mm_trn_data/myeloma_public_data/crc/\"+filename)\n",
    "        temp[\"file\"] = filename\n",
    "        dataframes.append(temp)     "
   ]
  },
  {
   "cell_type": "code",
   "execution_count": 20,
   "id": "fddf8e86-30b0-4e5e-8ea5-7a37722db03a",
   "metadata": {},
   "outputs": [],
   "source": [
    "crc_degree_all = pd.concat(dataframes,ignore_index=True,axis=0)\n",
    "crc_degree_all.to_csv(\"/data/projects/IRF4_mm_trn_data/myeloma_public_data/tables/crc_degree.csv\")"
   ]
  },
  {
   "cell_type": "code",
   "execution_count": null,
   "id": "72e5d0fb-fd18-45b7-8922-271c82a16d20",
   "metadata": {},
   "outputs": [],
   "source": []
  }
 ],
 "metadata": {
  "kernelspec": {
   "display_name": "my_env",
   "language": "python",
   "name": "my_env"
  },
  "language_info": {
   "codemirror_mode": {
    "name": "ipython",
    "version": 3
   },
   "file_extension": ".py",
   "mimetype": "text/x-python",
   "name": "python",
   "nbconvert_exporter": "python",
   "pygments_lexer": "ipython3",
   "version": "3.10.4"
  }
 },
 "nbformat": 4,
 "nbformat_minor": 5
}
