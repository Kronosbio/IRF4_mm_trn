{
 "cells": [
  {
   "cell_type": "code",
   "execution_count": 1,
   "id": "e5de25d3-6fc4-489e-8bac-4e727520496c",
   "metadata": {},
   "outputs": [
    {
     "name": "stdout",
     "output_type": "stream",
     "text": [
      "\n",
      "Using following version of python:\n",
      "\n",
      "3.10.4 | packaged by conda-forge | (main, Mar 24 2022, 17:39:04) [GCC 10.3.0]\n",
      "\n",
      "\n",
      "\n"
     ]
    }
   ],
   "source": [
    "import sys, os\n",
    "\n",
    "# Get the script's full local path\n",
    "whereAmI = os.path.dirname(os.path.abspath(''))\n",
    "\n",
    "pipeline_dir = '/home/ec2-user/IRF4_mm_trn/mm_public_chip_scripts/pipeline-tools-main/'\n",
    "\n",
    "sys.path.append(whereAmI)\n",
    "sys.path.append(pipeline_dir)\n",
    "\n",
    "import pipeline_tools.utils.utils as utils\n",
    "import pipeline_kronos\n",
    "import string\n",
    "import numpy\n",
    "import os\n",
    "import re\n",
    "from collections import defaultdict\n",
    "import subprocess"
   ]
  },
  {
   "cell_type": "code",
   "execution_count": 2,
   "id": "14bdc0ed-6b7f-4a7a-b04b-ecaf9f425d24",
   "metadata": {},
   "outputs": [
    {
     "data": {
      "text/plain": [
       "\"{'commit_hash': '24103c4',\\n 'commit_source': 'installation',\\n 'default_encoding': 'utf-8',\\n 'ipython_path': '/opt/miniconda3/envs/my_env/lib/python3.10/site-packages/IPython',\\n 'ipython_version': '8.2.0',\\n 'os_name': 'posix',\\n 'platform': 'Linux-4.14.158-101.185.amzn1.x86_64-x86_64-with-glibc2.17',\\n 'sys_executable': '/opt/miniconda3/envs/my_env/bin/python',\\n 'sys_platform': 'linux',\\n 'sys_version': '3.10.4 | packaged by conda-forge | (main, Mar 24 2022, '\\n                '17:39:04) [GCC 10.3.0]'}\""
      ]
     },
     "execution_count": 2,
     "metadata": {},
     "output_type": "execute_result"
    }
   ],
   "source": [
    "import IPython \n",
    "IPython.sys_info()"
   ]
  },
  {
   "cell_type": "code",
   "execution_count": 3,
   "id": "81f66a9d-22e7-4a77-85eb-4a9ab1ff8f0d",
   "metadata": {},
   "outputs": [],
   "source": [
    "###This code chunk is more intended to use Charles' pipeline functions. It can be used in the future when processing a ton of samples simultaneously.\n",
    "\n",
    "\n",
    "#==========================================================================\n",
    "#============================PARAMETERS====================================\n",
    "#==========================================================================\n",
    "\n",
    "projectName = 'p300_internal_ChIP'\n",
    "genome ='hg19'\n",
    "annotFile = '%s/annotation/%s_refseq.ucsc' % (pipeline_dir,genome)\n",
    "\n",
    "#project folders\n",
    "projectFolder = '/data/projects/IRF4_mm_trn_data/p300_internal_ChIP/'  #PATH TO YOUR PROJECT FOLDER\n",
    "\n",
    "projectFolder = utils.format_folder(projectFolder,True)#standard folder names\n",
    "gffFolder ='%sgff/' % (projectFolder)\n",
    "macsFolder = '%smacsFolder/' % (projectFolder)\n",
    "macsEnrichedFolder = '%smacsEnriched/' % (projectFolder)\n",
    "mappedEnrichedFolder = '%smappedEnriched/' % (projectFolder)\n",
    "mappedFolder = '%smappedFolder/' % (projectFolder)\n",
    "wiggleFolder = '%swiggles/' % (projectFolder)\n",
    "metaFolder = '%smeta/' % (projectFolder)\n",
    "metaRoseFolder = '%smeta_rose/' % (projectFolder)\n",
    "roseFolder = '%srose/' % (projectFolder)\n",
    "fastaFolder = '%sfasta/' % (projectFolder)\n",
    "bedFolder = '%sbeds/' % (projectFolder)\n",
    "figuresFolder = '%sfigures/' % (projectFolder)\n",
    "geneListFolder = '%sgeneListFolder/' % (projectFolder)\n",
    "bedFolder = '%sbeds/' % (projectFolder)\n",
    "signalFolder = '%ssignalTables/' % (projectFolder)\n",
    "tableFolder = '%stables/' % (projectFolder)\n",
    "tableFolder = '%sscripts/' % (projectFolder)\n",
    "\n",
    "#mask Files\n",
    "\n",
    "#making folders\n",
    "folderList = [gffFolder,macsFolder,macsEnrichedFolder,mappedEnrichedFolder,mappedFolder,wiggleFolder,metaFolder,metaRoseFolder,roseFolder,fastaFolder,figuresFolder,geneListFolder,bedFolder,signalFolder,tableFolder]\n",
    "\n",
    "for folder in folderList:\n",
    "    pipeline_kronos.formatFolder(folder,True)\n"
   ]
  },
  {
   "cell_type": "markdown",
   "id": "a781e60f-b17f-40af-b6a5-6fed04348109",
   "metadata": {},
   "source": [
    "***MACS1.4***"
   ]
  },
  {
   "cell_type": "code",
   "execution_count": 4,
   "id": "8cfd2a03-d999-4e19-ad24-3a5567ae4429",
   "metadata": {},
   "outputs": [
    {
     "data": {
      "text/plain": [
       "0"
      ]
     },
     "execution_count": 4,
     "metadata": {},
     "output_type": "execute_result"
    }
   ],
   "source": [
    "os.system(\"sudo chmod +x ./macs_cmds.sh\")\n",
    "os.system(\"./macs_cmds.sh &> macs.log\")"
   ]
  },
  {
   "cell_type": "code",
   "execution_count": 8,
   "id": "87957e1a-2d04-4ce2-9f01-fac3120797a0",
   "metadata": {
    "tags": []
   },
   "outputs": [
    {
     "name": "stdout",
     "output_type": "stream",
     "text": [
      "Moved '12_0EWY_0229Kronos_MM1S-No-Treatment-2_H3K27Ac_hs-dm_i21_peaks.bed' to '/data/projects/IRF4_mm_trn_data/p300_internal_ChIP/beds/'\n",
      "Moved '26_0F2C_0229Kronos_MM1S-KB-3hr-2_H3K27me3_hs-dm_i13_peaks.bed' to '/data/projects/IRF4_mm_trn_data/p300_internal_ChIP/beds/'\n",
      "Moved '02_0EWO_0229Kronos_MM1S-No-Treatment-2_H3K18Ac_hs-dm_i04_peaks.bed' to '/data/projects/IRF4_mm_trn_data/p300_internal_ChIP/beds/'\n",
      "Moved '14_0EX0_0229Kronos_MM1S-KB-1hr-2_H3K27Ac_hs-dm_i23_peaks.bed' to '/data/projects/IRF4_mm_trn_data/p300_internal_ChIP/beds/'\n",
      "Moved '34_0EXA_0229Kronos_MM1S-No-Treatment-2_p300_hs_i50_peaks.bed' to '/data/projects/IRF4_mm_trn_data/p300_internal_ChIP/beds/'\n",
      "Moved '33_0EX9_0229Kronos_MM1S-No-Treatment-1_p300_hs_i49_peaks.bed' to '/data/projects/IRF4_mm_trn_data/p300_internal_ChIP/beds/'\n",
      "Moved '22_0F28_0229Kronos_MM1S-No-Treatment-2_H3K27me3_hs-dm_i04_peaks.bed' to '/data/projects/IRF4_mm_trn_data/p300_internal_ChIP/beds/'\n",
      "Moved '08_0EWU_0229Kronos_MM1S-KB-6hr-2_H3K18Ac_hs-dm_i16_peaks.bed' to '/data/projects/IRF4_mm_trn_data/p300_internal_ChIP/beds/'\n",
      "Moved '11_0EWX_0229Kronos_MM1S-No-Treatment-1_H3K27Ac_hs-dm_i20_peaks.bed' to '/data/projects/IRF4_mm_trn_data/p300_internal_ChIP/beds/'\n",
      "Moved '17_0EX3_0229Kronos_MM1S-KB-6hr-1_H3K27Ac_hs-dm_i33_peaks.bed' to '/data/projects/IRF4_mm_trn_data/p300_internal_ChIP/beds/'\n",
      "Moved '20_0EX6_0229Kronos_MM1S-KB-24hr-2_H3K27Ac_hs-dm_i43_peaks.bed' to '/data/projects/IRF4_mm_trn_data/p300_internal_ChIP/beds/'\n",
      "Moved '29_0F2F_0229Kronos_MM1S-KB-24hr-1_H3K27me3_hs-dm_i17_peaks.bed' to '/data/projects/IRF4_mm_trn_data/p300_internal_ChIP/beds/'\n",
      "Moved '01_0EWN_0229Kronos_MM1S-No-Treatment-1_H3K18Ac_hs-dm_i02_peaks.bed' to '/data/projects/IRF4_mm_trn_data/p300_internal_ChIP/beds/'\n",
      "Moved '10_0EWW_0229Kronos_MM1S-KB-24hr-2_H3K18Ac_hs-dm_i19_peaks.bed' to '/data/projects/IRF4_mm_trn_data/p300_internal_ChIP/beds/'\n",
      "Moved '04_0EWQ_0229Kronos_MM1S-KB-1hr-2_H3K18Ac_hs-dm_i06_peaks.bed' to '/data/projects/IRF4_mm_trn_data/p300_internal_ChIP/beds/'\n",
      "Moved '07_0EWT_0229Kronos_MM1S-KB-6hr-1_H3K18Ac_hs-dm_i14_peaks.bed' to '/data/projects/IRF4_mm_trn_data/p300_internal_ChIP/beds/'\n",
      "Moved '15_0EX1_0229Kronos_MM1S-KB-3hr-1_H3K27Ac_hs-dm_i25_peaks.bed' to '/data/projects/IRF4_mm_trn_data/p300_internal_ChIP/beds/'\n",
      "Moved '16_0EX2_0229Kronos_MM1S-KB-3hr-2_H3K27Ac_hs-dm_i29_peaks.bed' to '/data/projects/IRF4_mm_trn_data/p300_internal_ChIP/beds/'\n",
      "Moved '21_0F27_0229Kronos_MM1S-No-Treatment-1_H3K27me3_hs-dm_i02_peaks.bed' to '/data/projects/IRF4_mm_trn_data/p300_internal_ChIP/beds/'\n",
      "Moved '32_0EX8_0229Kronos_MM1S-No-Treatment-2_IRF4_hs_i48_peaks.bed' to '/data/projects/IRF4_mm_trn_data/p300_internal_ChIP/beds/'\n",
      "Moved '27_0F2D_0229Kronos_MM1S-KB-6hr-1_H3K27me3_hs-dm_i14_peaks.bed' to '/data/projects/IRF4_mm_trn_data/p300_internal_ChIP/beds/'\n",
      "Moved '25_0F2B_0229Kronos_MM1S-KB-3hr-1_H3K27me3_hs-dm_i07_peaks.bed' to '/data/projects/IRF4_mm_trn_data/p300_internal_ChIP/beds/'\n",
      "Moved '19_0EX5_0229Kronos_MM1S-KB-24hr-1_H3K27Ac_hs-dm_i39_peaks.bed' to '/data/projects/IRF4_mm_trn_data/p300_internal_ChIP/beds/'\n",
      "Moved '13_0EWZ_0229Kronos_MM1S-KB-1hr-1_H3K27Ac_hs-dm_i22_peaks.bed' to '/data/projects/IRF4_mm_trn_data/p300_internal_ChIP/beds/'\n",
      "Moved '05_0EWR_0229Kronos_MM1S-KB-3hr-1_H3K18Ac_hs-dm_i07_peaks.bed' to '/data/projects/IRF4_mm_trn_data/p300_internal_ChIP/beds/'\n",
      "Moved '03_0EWP_0229Kronos_MM1S-KB-1hr-1_H3K18Ac_hs-dm_i05_peaks.bed' to '/data/projects/IRF4_mm_trn_data/p300_internal_ChIP/beds/'\n",
      "Moved '23_0F29_0229Kronos_MM1S-KB-1hr-1_H3K27me3_hs-dm_i05_peaks.bed' to '/data/projects/IRF4_mm_trn_data/p300_internal_ChIP/beds/'\n",
      "Moved '09_0EWV_0229Kronos_MM1S-KB-24hr-1_H3K18Ac_hs-dm_i17_peaks.bed' to '/data/projects/IRF4_mm_trn_data/p300_internal_ChIP/beds/'\n",
      "Moved '31_0EX7_0229Kronos_MM1S-No-Treatment-1_IRF4_hs_i45_peaks.bed' to '/data/projects/IRF4_mm_trn_data/p300_internal_ChIP/beds/'\n",
      "Moved '30_0F2G_0229Kronos_MM1S-KB-24hr-2_H3K27me3_hs-dm_i19_peaks.bed' to '/data/projects/IRF4_mm_trn_data/p300_internal_ChIP/beds/'\n",
      "Moved '06_0EWS_0229Kronos_MM1S-KB-3hr-2_H3K18Ac_hs-dm_i13_peaks.bed' to '/data/projects/IRF4_mm_trn_data/p300_internal_ChIP/beds/'\n",
      "Moved '18_0EX4_0229Kronos_MM1S-KB-6hr-2_H3K27Ac_hs-dm_i37_peaks.bed' to '/data/projects/IRF4_mm_trn_data/p300_internal_ChIP/beds/'\n",
      "Moved '24_0F2A_0229Kronos_MM1S-KB-1hr-2_H3K27me3_hs-dm_i06_peaks.bed' to '/data/projects/IRF4_mm_trn_data/p300_internal_ChIP/beds/'\n",
      "Moved '28_0F2E_0229Kronos_MM1S-KB-6hr-2_H3K27me3_hs-dm_i16_peaks.bed' to '/data/projects/IRF4_mm_trn_data/p300_internal_ChIP/beds/'\n"
     ]
    }
   ],
   "source": [
    "##### Moving bed files from macs output to beds folder, simplicity of other code scripts was to move to beds destination. \n",
    "\n",
    "import os\n",
    "import shutil\n",
    "\n",
    "root_directory = '/data/projects/IRF4_mm_trn_data/p300_internal_ChIP/macsFolder/'\n",
    "destination_directory = '/data/projects/IRF4_mm_trn_data/p300_internal_ChIP/beds/'\n",
    "\n",
    "# Iterate through all directories and subdirectories\n",
    "for root, dirs, files in os.walk(root_directory):\n",
    "    for file in files:\n",
    "        # Check if the file ends with \"_peaks.bed\"\n",
    "        if file.endswith(\"_peaks.bed\"):\n",
    "            # Construct the full path of the source file\n",
    "            source_file_path = os.path.join(root, file)\n",
    "\n",
    "            # Construct the full path of the destination file\n",
    "            destination_file_path = os.path.join(destination_directory, file)\n",
    "\n",
    "            # Move the file to the destination directory\n",
    "            shutil.move(source_file_path, destination_file_path)\n",
    "\n",
    "            print(f\"Moved '{file}' to '{destination_directory}'\")"
   ]
  },
  {
   "cell_type": "markdown",
   "id": "aecec769-ab9f-4219-82eb-0121405789f1",
   "metadata": {},
   "source": [
    "***ROSE2***"
   ]
  },
  {
   "cell_type": "code",
   "execution_count": 9,
   "id": "3bff4516-ecee-45f5-a2f1-36c2f0e7a789",
   "metadata": {},
   "outputs": [
    {
     "data": {
      "text/plain": [
       "0"
      ]
     },
     "execution_count": 9,
     "metadata": {},
     "output_type": "execute_result"
    }
   ],
   "source": [
    "os.system(\"sudo chmod +755 ./rose.sh\")\n",
    "os.system(\"./rose.sh &> ROSE2.log\")"
   ]
  },
  {
   "cell_type": "code",
   "execution_count": null,
   "id": "a7e5fab0-58e9-4236-8e82-00067ee7e1c8",
   "metadata": {},
   "outputs": [],
   "source": [
    "########### update with MYC definitions using ROSE2_add_myc"
   ]
  },
  {
   "cell_type": "markdown",
   "id": "f3aa0da5-ef56-47b2-af2b-4bd632c2fccc",
   "metadata": {},
   "source": [
    "***Enhancer Promoter***\n"
   ]
  },
  {
   "cell_type": "code",
   "execution_count": 13,
   "id": "04a3a0e9-e71b-4e92-ba62-c0cc8a53ebe3",
   "metadata": {},
   "outputs": [
    {
     "data": {
      "text/plain": [
       "0"
      ]
     },
     "execution_count": 13,
     "metadata": {},
     "output_type": "execute_result"
    }
   ],
   "source": [
    "os.system(\"sudo chmod +755 ./enhancerpromoter_cmds_DMSO_compare.sh\")\n",
    "os.system(\"./enhancerpromoter_cmds_DMSO_compare.sh &> enhancerpromoter_DMSO.log\")"
   ]
  },
  {
   "cell_type": "code",
   "execution_count": 24,
   "id": "6bfe6cae-0529-4e31-be70-8fcc0df93142",
   "metadata": {},
   "outputs": [],
   "source": [
    "########### update with MYC definitions using enhancerpromoter_genetable_add_myc"
   ]
  },
  {
   "cell_type": "code",
   "execution_count": 14,
   "id": "01ac240d-f20e-4c3e-878d-ede09acddbb7",
   "metadata": {},
   "outputs": [],
   "source": [
    "import pandas as pd\n",
    "import math\n",
    "import os"
   ]
  },
  {
   "cell_type": "code",
   "execution_count": 15,
   "id": "f45c6f20-ec93-4ada-8357-97b4d7d6fd5c",
   "metadata": {},
   "outputs": [],
   "source": [
    "##### Adding post enhancerPromoter gene tables together\n",
    "\n",
    "dataframes = []\n",
    "for folder in os.listdir(\"/data/projects/IRF4_mm_trn_data/p300_internal_ChIP/enhancer_promoter/\" ):\n",
    "    if folder.endswith('_compare'):\n",
    "        folder_path = os.path.join(\"/data/projects/IRF4_mm_trn_data/p300_internal_ChIP/enhancer_promoter/\", folder)   \n",
    "        analysisName = folder\n",
    "        peakTablePath = \"/data/projects/IRF4_mm_trn_data/p300_internal_ChIP/enhancer_promoter/\"+ folder+\"/\"+ folder+\"_peaks_with_MYC_GENE_TABLE.txt\"\n",
    "        temp = pd.read_table(peakTablePath)\n",
    "        temp.columns = ['GENE_ID','TSS_signal','DISTAL_signal']\n",
    "        temp[\"file\"] = folder\n",
    "        dataframes.append(temp) "
   ]
  },
  {
   "cell_type": "code",
   "execution_count": 16,
   "id": "dddb7f09-a392-433b-96ce-7c5a3200fc69",
   "metadata": {},
   "outputs": [],
   "source": [
    "enhancerPromoter_all = pd.concat(dataframes,ignore_index=True,axis=0)\n",
    "enhancerPromoter_all.to_csv(\"/data/projects/IRF4_mm_trn_data/p300_internal_ChIP/tables/enhancerPromoter_DMSO_with_MYC.csv\")"
   ]
  },
  {
   "cell_type": "markdown",
   "id": "d909d3c9-0809-496f-8efa-1abc4630bc0a",
   "metadata": {},
   "source": [
    "***CRC***"
   ]
  },
  {
   "cell_type": "code",
   "execution_count": 26,
   "id": "c6be5730-83b7-4800-8ffa-3611f1a63d87",
   "metadata": {},
   "outputs": [
    {
     "data": {
      "text/plain": [
       "0"
      ]
     },
     "execution_count": 26,
     "metadata": {},
     "output_type": "execute_result"
    }
   ],
   "source": [
    "#### Only running on two samples for MM1S\n",
    "os.system(\"sudo chmod +755 ./crc_cmds.sh\")\n",
    "os.system(\"./crc_cmds.sh &> crc.log\")"
   ]
  },
  {
   "cell_type": "code",
   "execution_count": null,
   "id": "f8e77a8f-fbbe-4768-be1a-a050090d4919",
   "metadata": {},
   "outputs": [],
   "source": []
  }
 ],
 "metadata": {
  "kernelspec": {
   "display_name": "my_env",
   "language": "python",
   "name": "my_env"
  },
  "language_info": {
   "codemirror_mode": {
    "name": "ipython",
    "version": 3
   },
   "file_extension": ".py",
   "mimetype": "text/x-python",
   "name": "python",
   "nbconvert_exporter": "python",
   "pygments_lexer": "ipython3",
   "version": "3.10.4"
  }
 },
 "nbformat": 4,
 "nbformat_minor": 5
}
