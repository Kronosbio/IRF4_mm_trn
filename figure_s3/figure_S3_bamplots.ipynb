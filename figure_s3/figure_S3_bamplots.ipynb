{
 "cells": [
  {
   "cell_type": "code",
   "execution_count": 1,
   "id": "b34f6ab2-ab0e-4c22-8d6a-c57a4b215fd9",
   "metadata": {},
   "outputs": [
    {
     "data": {
      "text/plain": [
       "\"{'commit_hash': '24103c4',\\n 'commit_source': 'installation',\\n 'default_encoding': 'utf-8',\\n 'ipython_path': '/opt/miniconda3/envs/my_env/lib/python3.10/site-packages/IPython',\\n 'ipython_version': '8.2.0',\\n 'os_name': 'posix',\\n 'platform': 'Linux-4.14.158-101.185.amzn1.x86_64-x86_64-with-glibc2.17',\\n 'sys_executable': '/opt/miniconda3/envs/my_env/bin/python',\\n 'sys_platform': 'linux',\\n 'sys_version': '3.10.4 | packaged by conda-forge | (main, Mar 24 2022, '\\n                '17:39:04) [GCC 10.3.0]'}\""
      ]
     },
     "execution_count": 1,
     "metadata": {},
     "output_type": "execute_result"
    }
   ],
   "source": [
    "import IPython \n",
    "IPython.sys_info()"
   ]
  },
  {
   "cell_type": "code",
   "execution_count": 2,
   "id": "a100b013-d26d-41ef-a742-084d6d5bcb30",
   "metadata": {},
   "outputs": [
    {
     "name": "stdout",
     "output_type": "stream",
     "text": [
      "usage: bamplot [options]\n",
      "\n",
      "optional arguments:\n",
      "  -h, --help            show this help message and exit\n",
      "  -b [BAM [BAM ...]], --bam [BAM [BAM ...]]\n",
      "                        Enter a comma separated list of .bam files to be\n",
      "                        processed.\n",
      "  -i INPUT, --input INPUT\n",
      "                        Enter .gff or genomic region e.g. chr1:+:1-1000.\n",
      "  -g GENOME, --genome GENOME\n",
      "                        specify a genome, HG18,HG19,MM8,MM9,MM10 are currently\n",
      "                        supported\n",
      "  -o OUTPUT, --output OUTPUT\n",
      "                        Enter the output folder.\n",
      "  --stretch-input STRETCH_INPUT\n",
      "                        Stretch the input regions to a minimum length in bp,\n",
      "                        e.g. 10000 (for 10kb)\n",
      "  -c COLOR, --color COLOR\n",
      "                        Enter a colon separated list of colors e.g.\n",
      "                        255,0,0:255,125,0, default samples the rainbow\n",
      "  -s SENSE, --sense SENSE\n",
      "                        Map to '+','-' or 'both' strands. Default maps to\n",
      "                        both.\n",
      "  -e EXTENSION, --extension EXTENSION\n",
      "                        Extends reads by n bp. Default value is 200bp\n",
      "  -r, --rpm             Normalizes density to reads per million (rpm) Default\n",
      "                        is False\n",
      "  -y YSCALE, --yScale YSCALE\n",
      "                        Choose either relative or uniform y axis scaling.\n",
      "                        options = 'relative,uniform' Default is relative\n",
      "                        scaling\n",
      "  -n NAMES, --names NAMES\n",
      "                        Enter a comma separated list of names for your bams\n",
      "  -p PLOT, --plot PLOT  Choose either all lines on a single plot or multiple\n",
      "                        plots. options = 'SINGLE,MULTIPLE,MERGE'\n",
      "  -t TITLE, --title TITLE\n",
      "                        Specify a title for the output plot(s), default will\n",
      "                        be the coordinate region\n",
      "  --scale SCALE         Enter a comma separated list of multiplicative scaling\n",
      "                        factors for your bams. Default is none\n",
      "  --save-temp           If flagged will save temporary files made by bamPlot\n",
      "  --bed BED             Add a space-delimited list of bed files to plot\n",
      "  --multi-page          If flagged will create a new pdf for each region\n",
      "  --verbose, -v         If verbose will print additional output\n"
     ]
    },
    {
     "data": {
      "text/plain": [
       "0"
      ]
     },
     "execution_count": 2,
     "metadata": {},
     "output_type": "execute_result"
    }
   ],
   "source": [
    "import os\n",
    "import pandas as pd\n",
    "os.system(\"bamplot -h\")"
   ]
  },
  {
   "cell_type": "code",
   "execution_count": 3,
   "id": "95761db0-31eb-495f-b170-dc128235ddb5",
   "metadata": {},
   "outputs": [],
   "source": [
    "def bamplot_cmd(gene,region):\n",
    "    data_table = pd.read_table(\"/data/projects/IRF4_mm_trn_data/myeloma_public_data/tables/p300_interal_perturb_data_table.txt\")\n",
    "    qc_table = pd.read_csv(\"/data/projects/IRF4_mm_trn_data/myeloma_public_data/tables/MM_p300_internal_QC_report.csv\")\n",
    "\n",
    "    order = data_table['UNIQUE_ID'].astype(str).str[:2]\n",
    "    order = order.astype(int)\n",
    "    data_table['order'] = order\n",
    "    data_table = data_table.sort_values(by='order')\n",
    "\n",
    "    order = qc_table['Sample'].astype(str).str[:2]\n",
    "    order = order.astype(int)\n",
    "    qc_table['order'] = order\n",
    "    qc_table = qc_table.sort_values(by='order')\n",
    "\n",
    "    selected_columns = qc_table[['Sample', 'order','Total_Reads_dm3']]\n",
    "\n",
    "    data_table = data_table.merge(selected_columns, on='order', how='inner')\n",
    "\n",
    "    data_table['time'] = [0,0,1,1,3,3,6,6,24,24,0,0,1,1,3,3,6,6,24,24,0,0,1,1,3,3,6,6,24,24,0,0,0,0,-1,-1,-1,-1,-1,-1,-1,-1,-1,-1]\n",
    "\n",
    "    data_table['bam'] = data_table['FILE_PATH'] +data_table['UNIQUE_ID']+\".bam\"\n",
    "    \n",
    "    tf_bams = data_table['bam'][30:34].str.cat(sep=',')\n",
    "\n",
    "    n0 = [\"H3K18Ac_0\",\"H3K18Ac_0\",\"H3K27Ac_0\",\"H3K27Ac_0\",\"H3K27me3_0\",\"H3K27me3_0\"]\n",
    "\n",
    "    cmd = \"mkdir /home/ec2-user/IRF4_mm_trn/mm_internal_chip_scripts/figures/\" + gene\n",
    "    os.system(cmd)\n",
    "    o = \"/home/ec2-user/IRF4_mm_trn/mm_internal_chip_scripts/figures/\"+ gene+\"/\"\n",
    "\n",
    "    g = \"hg19\" \n",
    "    e = \"2000\" \n",
    "    c0 = \"220,220,220:240,240,240\"\n",
    "    ct = \"90,90,90:65,65,65:90,90,90:65,65,65:90,90,90:65,65,65:90,90,90:65,65,65\"\n",
    "    c = c0 +\":\"+ ct\n",
    "    \n",
    "    np300 = \"IRF4,IRF4,p300,p300\"\n",
    "    \n",
    "    cp300 = \"244,64,247:31,200,222:51,232,232:45,208,208\"\n",
    "    y = \"UNIFORM\"\n",
    "    p = \"SINGLE\"\n",
    "\n",
    "    i = region\n",
    "    title = \"p300_IRF4_\"+gene+\"_bamplot\"\n",
    "   \n",
    "    cmd = 'bamplot -g %s -e %s -c %s -o %s -y %s -b %s -i %s -n %s -t %s -r --save-temp -p %s \\n\\n' % (g,e,cp300,o,y,tf_bams,i,np300,title,p)\n",
    "    #print(cmd)\n",
    "    #os.system(cmd)\n",
    "    \n",
    "    #y = \"RELATIVE\"\n",
    "    y = \"UNIFORM\"\n",
    "    #p = \"SINGLE\"\n",
    "    p = \"MERGE\"\n",
    "    #-r \n",
    "    #--save-temp\n",
    "    \n",
    "    #### using spike-ins to normalize signal (scale input)\n",
    "    \n",
    "    for type_m in [\"18Ac\",\"27Ac\",\"27me3\"]:\n",
    "        filtered_df = data_table[(data_table['NAME'].str.contains(type_m)) & (data_table.time == 0)]\n",
    "        t0_bams = filtered_df['bam'].str.cat(sep=',')\n",
    "        filtered_df['sf_mod'] = 1/(filtered_df['Total_Reads_dm3']/1000000)\n",
    "        t0_sf = filtered_df['sf_mod'].astype('str').str.cat(sep=',')\n",
    "        \n",
    "        filtered_df = data_table[data_table.time != 0]\n",
    "        filtered_df['sf_mod'] = 1/(filtered_df['Total_Reads_dm3']/1000000)\n",
    "        filtered_df = filtered_df[filtered_df['NAME'].str.contains(type_m)]\n",
    "        n_0 = pd.Series(n0)\n",
    "        \n",
    "        n_0 = n_0[n_0.str.contains(type_m)]\n",
    "        n_t = \"H3K\" + type_m \n",
    "        \n",
    "        n_0 = n_0.str.cat(sep=',')\n",
    "        filtered_df['name'] = n_t \n",
    "        filtered_df['name'] = filtered_df['name'] +'_'+ filtered_df['time'].astype('str')\n",
    "        n_t = filtered_df['name'].astype('str').str.cat(sep=',')\n",
    "        n = n_0+\",\"+ n_t\n",
    "        t_bams = filtered_df['bam'].str.cat(sep=',')\n",
    "        t_sf = filtered_df['sf_mod'].astype('str').str.cat(sep=',')\n",
    "\n",
    "        b = t0_bams +','+ t_bams\n",
    "        sf = t0_sf +','+ t_sf\n",
    "        #print(sf)\n",
    "\n",
    "        title = gene+\"_\"+type_m+\"_bamplot_MM1S_scale\"\n",
    "        cmd = 'bamplot -g %s -e %s -c %s -o %s -y %s -b %s -i %s -n %s -t %s -r --save-temp -p %s --scale %s \\n\\n' % (g,e,c,o,y,b,i,n,title,p,sf)\n",
    "        print(cmd)\n",
    "        os.system(cmd)\n",
    "        \n",
    "        title = gene+\"_\"+type_m+\"_bamplot_MM1S_no_scale\"\n",
    "        cmd = 'bamplot -g %s -e %s -c %s -o %s -y %s -b %s -i %s -n %s -t %s -r --save-temp -p %s \\n\\n' % (g,e,c,o,y,b,i,n,title,p)\n",
    "\n",
    "        print(cmd)\n",
    "        os.system(cmd)\n",
    "        \n"
   ]
  },
  {
   "cell_type": "code",
   "execution_count": 7,
   "id": "b030e70a-4495-4be7-9efe-58122871d59d",
   "metadata": {
    "tags": []
   },
   "outputs": [
    {
     "name": "stderr",
     "output_type": "stream",
     "text": [
      "/tmp/ipykernel_12731/1957008385.py:62: SettingWithCopyWarning: \n",
      "A value is trying to be set on a copy of a slice from a DataFrame.\n",
      "Try using .loc[row_indexer,col_indexer] = value instead\n",
      "\n",
      "See the caveats in the documentation: https://pandas.pydata.org/pandas-docs/stable/user_guide/indexing.html#returning-a-view-versus-a-copy\n",
      "  filtered_df['sf_mod'] = 1/(filtered_df['Total_Reads_dm3']/1000000)\n",
      "/tmp/ipykernel_12731/1957008385.py:66: SettingWithCopyWarning: \n",
      "A value is trying to be set on a copy of a slice from a DataFrame.\n",
      "Try using .loc[row_indexer,col_indexer] = value instead\n",
      "\n",
      "See the caveats in the documentation: https://pandas.pydata.org/pandas-docs/stable/user_guide/indexing.html#returning-a-view-versus-a-copy\n",
      "  filtered_df['sf_mod'] = 1/(filtered_df['Total_Reads_dm3']/1000000)\n",
      "/tmp/ipykernel_12731/1957008385.py:74: SettingWithCopyWarning: \n",
      "A value is trying to be set on a copy of a slice from a DataFrame.\n",
      "Try using .loc[row_indexer,col_indexer] = value instead\n",
      "\n",
      "See the caveats in the documentation: https://pandas.pydata.org/pandas-docs/stable/user_guide/indexing.html#returning-a-view-versus-a-copy\n",
      "  filtered_df['name'] = n_t\n",
      "/tmp/ipykernel_12731/1957008385.py:75: SettingWithCopyWarning: \n",
      "A value is trying to be set on a copy of a slice from a DataFrame.\n",
      "Try using .loc[row_indexer,col_indexer] = value instead\n",
      "\n",
      "See the caveats in the documentation: https://pandas.pydata.org/pandas-docs/stable/user_guide/indexing.html#returning-a-view-versus-a-copy\n",
      "  filtered_df['name'] = filtered_df['name'] +'_'+ filtered_df['time'].astype('str')\n"
     ]
    },
    {
     "name": "stdout",
     "output_type": "stream",
     "text": [
      "bamplot -g hg19 -e 2000 -c 220,220,220:240,240,240:90,90,90:65,65,65:90,90,90:65,65,65:90,90,90:65,65,65:90,90,90:65,65,65 -o /home/ec2-user/IRF4_mm_trn/mm_internal_chip_scripts/figures/IRF4/ -y UNIFORM -b /data/projects/p300_internal_mm/01_0EWN_0229Kronos_MM1S-No-Treatment-1_H3K18Ac_hs-dm_i02.bam,/data/projects/p300_internal_mm/02_0EWO_0229Kronos_MM1S-No-Treatment-2_H3K18Ac_hs-dm_i04.bam,/data/projects/p300_internal_mm/03_0EWP_0229Kronos_MM1S-KB-1hr-1_H3K18Ac_hs-dm_i05.bam,/data/projects/p300_internal_mm/04_0EWQ_0229Kronos_MM1S-KB-1hr-2_H3K18Ac_hs-dm_i06.bam,/data/projects/p300_internal_mm/05_0EWR_0229Kronos_MM1S-KB-3hr-1_H3K18Ac_hs-dm_i07.bam,/data/projects/p300_internal_mm/06_0EWS_0229Kronos_MM1S-KB-3hr-2_H3K18Ac_hs-dm_i13.bam,/data/projects/p300_internal_mm/07_0EWT_0229Kronos_MM1S-KB-6hr-1_H3K18Ac_hs-dm_i14.bam,/data/projects/p300_internal_mm/08_0EWU_0229Kronos_MM1S-KB-6hr-2_H3K18Ac_hs-dm_i16.bam,/data/projects/p300_internal_mm/09_0EWV_0229Kronos_MM1S-KB-24hr-1_H3K18Ac_hs-dm_i17.bam,/data/projects/p300_internal_mm/10_0EWW_0229Kronos_MM1S-KB-24hr-2_H3K18Ac_hs-dm_i19.bam -i chr6:+:261715-458764 -n H3K18Ac_0,H3K18Ac_0,H3K18Ac_1,H3K18Ac_1,H3K18Ac_3,H3K18Ac_3,H3K18Ac_6,H3K18Ac_6,H3K18Ac_24,H3K18Ac_24 -t IRF4_18Ac_bamplot_MM1S_scale -r --save-temp -p MERGE --scale 0.7693858300672904,0.8787407995838284,0.17000696348522434,0.18971642137914352,0.27327048476544374,0.2787408273362244,0.2433198955865664,0.23995984032112386,0.42962043893461005,0.4169263770557076 \n",
      "\n",
      "\n",
      "null device \n",
      "          1 \n",
      "\tLoading genome data from cache.\n",
      "bamplot -g hg19 -e 2000 -c 220,220,220:240,240,240:90,90,90:65,65,65:90,90,90:65,65,65:90,90,90:65,65,65:90,90,90:65,65,65 -o /home/ec2-user/IRF4_mm_trn/mm_internal_chip_scripts/figures/IRF4/ -y UNIFORM -b /data/projects/p300_internal_mm/01_0EWN_0229Kronos_MM1S-No-Treatment-1_H3K18Ac_hs-dm_i02.bam,/data/projects/p300_internal_mm/02_0EWO_0229Kronos_MM1S-No-Treatment-2_H3K18Ac_hs-dm_i04.bam,/data/projects/p300_internal_mm/03_0EWP_0229Kronos_MM1S-KB-1hr-1_H3K18Ac_hs-dm_i05.bam,/data/projects/p300_internal_mm/04_0EWQ_0229Kronos_MM1S-KB-1hr-2_H3K18Ac_hs-dm_i06.bam,/data/projects/p300_internal_mm/05_0EWR_0229Kronos_MM1S-KB-3hr-1_H3K18Ac_hs-dm_i07.bam,/data/projects/p300_internal_mm/06_0EWS_0229Kronos_MM1S-KB-3hr-2_H3K18Ac_hs-dm_i13.bam,/data/projects/p300_internal_mm/07_0EWT_0229Kronos_MM1S-KB-6hr-1_H3K18Ac_hs-dm_i14.bam,/data/projects/p300_internal_mm/08_0EWU_0229Kronos_MM1S-KB-6hr-2_H3K18Ac_hs-dm_i16.bam,/data/projects/p300_internal_mm/09_0EWV_0229Kronos_MM1S-KB-24hr-1_H3K18Ac_hs-dm_i17.bam,/data/projects/p300_internal_mm/10_0EWW_0229Kronos_MM1S-KB-24hr-2_H3K18Ac_hs-dm_i19.bam -i chr6:+:261715-458764 -n H3K18Ac_0,H3K18Ac_0,H3K18Ac_1,H3K18Ac_1,H3K18Ac_3,H3K18Ac_3,H3K18Ac_6,H3K18Ac_6,H3K18Ac_24,H3K18Ac_24 -t IRF4_18Ac_bamplot_MM1S_no_scale -r --save-temp -p MERGE \n",
      "\n",
      "\n",
      "null device \n",
      "          1 \n",
      "\tLoading genome data from cache.\n"
     ]
    },
    {
     "name": "stderr",
     "output_type": "stream",
     "text": [
      "/tmp/ipykernel_12731/1957008385.py:62: SettingWithCopyWarning: \n",
      "A value is trying to be set on a copy of a slice from a DataFrame.\n",
      "Try using .loc[row_indexer,col_indexer] = value instead\n",
      "\n",
      "See the caveats in the documentation: https://pandas.pydata.org/pandas-docs/stable/user_guide/indexing.html#returning-a-view-versus-a-copy\n",
      "  filtered_df['sf_mod'] = 1/(filtered_df['Total_Reads_dm3']/1000000)\n",
      "/tmp/ipykernel_12731/1957008385.py:66: SettingWithCopyWarning: \n",
      "A value is trying to be set on a copy of a slice from a DataFrame.\n",
      "Try using .loc[row_indexer,col_indexer] = value instead\n",
      "\n",
      "See the caveats in the documentation: https://pandas.pydata.org/pandas-docs/stable/user_guide/indexing.html#returning-a-view-versus-a-copy\n",
      "  filtered_df['sf_mod'] = 1/(filtered_df['Total_Reads_dm3']/1000000)\n",
      "/tmp/ipykernel_12731/1957008385.py:74: SettingWithCopyWarning: \n",
      "A value is trying to be set on a copy of a slice from a DataFrame.\n",
      "Try using .loc[row_indexer,col_indexer] = value instead\n",
      "\n",
      "See the caveats in the documentation: https://pandas.pydata.org/pandas-docs/stable/user_guide/indexing.html#returning-a-view-versus-a-copy\n",
      "  filtered_df['name'] = n_t\n",
      "/tmp/ipykernel_12731/1957008385.py:75: SettingWithCopyWarning: \n",
      "A value is trying to be set on a copy of a slice from a DataFrame.\n",
      "Try using .loc[row_indexer,col_indexer] = value instead\n",
      "\n",
      "See the caveats in the documentation: https://pandas.pydata.org/pandas-docs/stable/user_guide/indexing.html#returning-a-view-versus-a-copy\n",
      "  filtered_df['name'] = filtered_df['name'] +'_'+ filtered_df['time'].astype('str')\n"
     ]
    },
    {
     "name": "stdout",
     "output_type": "stream",
     "text": [
      "bamplot -g hg19 -e 2000 -c 220,220,220:240,240,240:90,90,90:65,65,65:90,90,90:65,65,65:90,90,90:65,65,65:90,90,90:65,65,65 -o /home/ec2-user/IRF4_mm_trn/mm_internal_chip_scripts/figures/IRF4/ -y UNIFORM -b /data/projects/p300_internal_mm/11_0EWX_0229Kronos_MM1S-No-Treatment-1_H3K27Ac_hs-dm_i20.bam,/data/projects/p300_internal_mm/12_0EWY_0229Kronos_MM1S-No-Treatment-2_H3K27Ac_hs-dm_i21.bam,/data/projects/p300_internal_mm/13_0EWZ_0229Kronos_MM1S-KB-1hr-1_H3K27Ac_hs-dm_i22.bam,/data/projects/p300_internal_mm/14_0EX0_0229Kronos_MM1S-KB-1hr-2_H3K27Ac_hs-dm_i23.bam,/data/projects/p300_internal_mm/15_0EX1_0229Kronos_MM1S-KB-3hr-1_H3K27Ac_hs-dm_i25.bam,/data/projects/p300_internal_mm/16_0EX2_0229Kronos_MM1S-KB-3hr-2_H3K27Ac_hs-dm_i29.bam,/data/projects/p300_internal_mm/17_0EX3_0229Kronos_MM1S-KB-6hr-1_H3K27Ac_hs-dm_i33.bam,/data/projects/p300_internal_mm/18_0EX4_0229Kronos_MM1S-KB-6hr-2_H3K27Ac_hs-dm_i37.bam,/data/projects/p300_internal_mm/19_0EX5_0229Kronos_MM1S-KB-24hr-1_H3K27Ac_hs-dm_i39.bam,/data/projects/p300_internal_mm/20_0EX6_0229Kronos_MM1S-KB-24hr-2_H3K27Ac_hs-dm_i43.bam -i chr6:+:261715-458764 -n H3K27Ac_0,H3K27Ac_0,H3K27Ac_1,H3K27Ac_1,H3K27Ac_3,H3K27Ac_3,H3K27Ac_6,H3K27Ac_6,H3K27Ac_24,H3K27Ac_24 -t IRF4_27Ac_bamplot_MM1S_scale -r --save-temp -p MERGE --scale 0.39076741640605733,0.41669080000883385,0.14048232921949563,0.13986518674380138,0.16014477087286907,0.19371788399630696,0.18738722802383492,0.1973205448572741,0.24992951987539516,0.25035838803246846 \n",
      "\n",
      "\n",
      "null device \n",
      "          1 \n",
      "\tLoading genome data from cache.\n",
      "bamplot -g hg19 -e 2000 -c 220,220,220:240,240,240:90,90,90:65,65,65:90,90,90:65,65,65:90,90,90:65,65,65:90,90,90:65,65,65 -o /home/ec2-user/IRF4_mm_trn/mm_internal_chip_scripts/figures/IRF4/ -y UNIFORM -b /data/projects/p300_internal_mm/11_0EWX_0229Kronos_MM1S-No-Treatment-1_H3K27Ac_hs-dm_i20.bam,/data/projects/p300_internal_mm/12_0EWY_0229Kronos_MM1S-No-Treatment-2_H3K27Ac_hs-dm_i21.bam,/data/projects/p300_internal_mm/13_0EWZ_0229Kronos_MM1S-KB-1hr-1_H3K27Ac_hs-dm_i22.bam,/data/projects/p300_internal_mm/14_0EX0_0229Kronos_MM1S-KB-1hr-2_H3K27Ac_hs-dm_i23.bam,/data/projects/p300_internal_mm/15_0EX1_0229Kronos_MM1S-KB-3hr-1_H3K27Ac_hs-dm_i25.bam,/data/projects/p300_internal_mm/16_0EX2_0229Kronos_MM1S-KB-3hr-2_H3K27Ac_hs-dm_i29.bam,/data/projects/p300_internal_mm/17_0EX3_0229Kronos_MM1S-KB-6hr-1_H3K27Ac_hs-dm_i33.bam,/data/projects/p300_internal_mm/18_0EX4_0229Kronos_MM1S-KB-6hr-2_H3K27Ac_hs-dm_i37.bam,/data/projects/p300_internal_mm/19_0EX5_0229Kronos_MM1S-KB-24hr-1_H3K27Ac_hs-dm_i39.bam,/data/projects/p300_internal_mm/20_0EX6_0229Kronos_MM1S-KB-24hr-2_H3K27Ac_hs-dm_i43.bam -i chr6:+:261715-458764 -n H3K27Ac_0,H3K27Ac_0,H3K27Ac_1,H3K27Ac_1,H3K27Ac_3,H3K27Ac_3,H3K27Ac_6,H3K27Ac_6,H3K27Ac_24,H3K27Ac_24 -t IRF4_27Ac_bamplot_MM1S_no_scale -r --save-temp -p MERGE \n",
      "\n",
      "\n",
      "null device \n",
      "          1 \n",
      "\tLoading genome data from cache.\n"
     ]
    },
    {
     "name": "stderr",
     "output_type": "stream",
     "text": [
      "/tmp/ipykernel_12731/1957008385.py:62: SettingWithCopyWarning: \n",
      "A value is trying to be set on a copy of a slice from a DataFrame.\n",
      "Try using .loc[row_indexer,col_indexer] = value instead\n",
      "\n",
      "See the caveats in the documentation: https://pandas.pydata.org/pandas-docs/stable/user_guide/indexing.html#returning-a-view-versus-a-copy\n",
      "  filtered_df['sf_mod'] = 1/(filtered_df['Total_Reads_dm3']/1000000)\n",
      "/tmp/ipykernel_12731/1957008385.py:66: SettingWithCopyWarning: \n",
      "A value is trying to be set on a copy of a slice from a DataFrame.\n",
      "Try using .loc[row_indexer,col_indexer] = value instead\n",
      "\n",
      "See the caveats in the documentation: https://pandas.pydata.org/pandas-docs/stable/user_guide/indexing.html#returning-a-view-versus-a-copy\n",
      "  filtered_df['sf_mod'] = 1/(filtered_df['Total_Reads_dm3']/1000000)\n"
     ]
    },
    {
     "name": "stdout",
     "output_type": "stream",
     "text": [
      "bamplot -g hg19 -e 2000 -c 220,220,220:240,240,240:90,90,90:65,65,65:90,90,90:65,65,65:90,90,90:65,65,65:90,90,90:65,65,65 -o /home/ec2-user/IRF4_mm_trn/mm_internal_chip_scripts/figures/IRF4/ -y UNIFORM -b /data/projects/p300_internal_mm/21_0F27_0229Kronos_MM1S-No-Treatment-1_H3K27me3_hs-dm_i02.bam,/data/projects/p300_internal_mm/22_0F28_0229Kronos_MM1S-No-Treatment-2_H3K27me3_hs-dm_i04.bam,/data/projects/p300_internal_mm/23_0F29_0229Kronos_MM1S-KB-1hr-1_H3K27me3_hs-dm_i05.bam,/data/projects/p300_internal_mm/24_0F2A_0229Kronos_MM1S-KB-1hr-2_H3K27me3_hs-dm_i06.bam,/data/projects/p300_internal_mm/25_0F2B_0229Kronos_MM1S-KB-3hr-1_H3K27me3_hs-dm_i07.bam,/data/projects/p300_internal_mm/26_0F2C_0229Kronos_MM1S-KB-3hr-2_H3K27me3_hs-dm_i13.bam,/data/projects/p300_internal_mm/27_0F2D_0229Kronos_MM1S-KB-6hr-1_H3K27me3_hs-dm_i14.bam,/data/projects/p300_internal_mm/28_0F2E_0229Kronos_MM1S-KB-6hr-2_H3K27me3_hs-dm_i16.bam,/data/projects/p300_internal_mm/29_0F2F_0229Kronos_MM1S-KB-24hr-1_H3K27me3_hs-dm_i17.bam,/data/projects/p300_internal_mm/30_0F2G_0229Kronos_MM1S-KB-24hr-2_H3K27me3_hs-dm_i19.bam -i chr6:+:261715-458764 -n H3K27me3_0,H3K27me3_0,H3K27me3_1,H3K27me3_1,H3K27me3_3,H3K27me3_3,H3K27me3_6,H3K27me3_6,H3K27me3_24,H3K27me3_24 -t IRF4_27me3_bamplot_MM1S_scale -r --save-temp -p MERGE --scale 0.2228406793877497,0.2060126438200018,0.18245731319929046,0.19463867762482423,0.2293443846747495,0.28748188864101565,0.2047320538535384,0.1740483471498713,0.2451379342128229,0.23586574521782203 \n",
      "\n",
      "\n",
      "null device \n",
      "          1 \n",
      "\tLoading genome data from cache.\n",
      "bamplot -g hg19 -e 2000 -c 220,220,220:240,240,240:90,90,90:65,65,65:90,90,90:65,65,65:90,90,90:65,65,65:90,90,90:65,65,65 -o /home/ec2-user/IRF4_mm_trn/mm_internal_chip_scripts/figures/IRF4/ -y UNIFORM -b /data/projects/p300_internal_mm/21_0F27_0229Kronos_MM1S-No-Treatment-1_H3K27me3_hs-dm_i02.bam,/data/projects/p300_internal_mm/22_0F28_0229Kronos_MM1S-No-Treatment-2_H3K27me3_hs-dm_i04.bam,/data/projects/p300_internal_mm/23_0F29_0229Kronos_MM1S-KB-1hr-1_H3K27me3_hs-dm_i05.bam,/data/projects/p300_internal_mm/24_0F2A_0229Kronos_MM1S-KB-1hr-2_H3K27me3_hs-dm_i06.bam,/data/projects/p300_internal_mm/25_0F2B_0229Kronos_MM1S-KB-3hr-1_H3K27me3_hs-dm_i07.bam,/data/projects/p300_internal_mm/26_0F2C_0229Kronos_MM1S-KB-3hr-2_H3K27me3_hs-dm_i13.bam,/data/projects/p300_internal_mm/27_0F2D_0229Kronos_MM1S-KB-6hr-1_H3K27me3_hs-dm_i14.bam,/data/projects/p300_internal_mm/28_0F2E_0229Kronos_MM1S-KB-6hr-2_H3K27me3_hs-dm_i16.bam,/data/projects/p300_internal_mm/29_0F2F_0229Kronos_MM1S-KB-24hr-1_H3K27me3_hs-dm_i17.bam,/data/projects/p300_internal_mm/30_0F2G_0229Kronos_MM1S-KB-24hr-2_H3K27me3_hs-dm_i19.bam -i chr6:+:261715-458764 -n H3K27me3_0,H3K27me3_0,H3K27me3_1,H3K27me3_1,H3K27me3_3,H3K27me3_3,H3K27me3_6,H3K27me3_6,H3K27me3_24,H3K27me3_24 -t IRF4_27me3_bamplot_MM1S_no_scale -r --save-temp -p MERGE \n",
      "\n",
      "\n",
      "null device \n",
      "          1 \n",
      "\tLoading genome data from cache.\n"
     ]
    }
   ],
   "source": [
    "region = \"chr6:+:261715-458764\"\n",
    "gene =\"IRF4\"\n",
    "bamplot_cmd(gene,region)\n"
   ]
  },
  {
   "cell_type": "code",
   "execution_count": 8,
   "id": "79e8f848-d5c3-4231-b909-5bbd5069c20f",
   "metadata": {
    "tags": []
   },
   "outputs": [
    {
     "name": "stderr",
     "output_type": "stream",
     "text": [
      "/tmp/ipykernel_12731/1957008385.py:62: SettingWithCopyWarning: \n",
      "A value is trying to be set on a copy of a slice from a DataFrame.\n",
      "Try using .loc[row_indexer,col_indexer] = value instead\n",
      "\n",
      "See the caveats in the documentation: https://pandas.pydata.org/pandas-docs/stable/user_guide/indexing.html#returning-a-view-versus-a-copy\n",
      "  filtered_df['sf_mod'] = 1/(filtered_df['Total_Reads_dm3']/1000000)\n",
      "/tmp/ipykernel_12731/1957008385.py:66: SettingWithCopyWarning: \n",
      "A value is trying to be set on a copy of a slice from a DataFrame.\n",
      "Try using .loc[row_indexer,col_indexer] = value instead\n",
      "\n",
      "See the caveats in the documentation: https://pandas.pydata.org/pandas-docs/stable/user_guide/indexing.html#returning-a-view-versus-a-copy\n",
      "  filtered_df['sf_mod'] = 1/(filtered_df['Total_Reads_dm3']/1000000)\n",
      "/tmp/ipykernel_12731/1957008385.py:74: SettingWithCopyWarning: \n",
      "A value is trying to be set on a copy of a slice from a DataFrame.\n",
      "Try using .loc[row_indexer,col_indexer] = value instead\n",
      "\n",
      "See the caveats in the documentation: https://pandas.pydata.org/pandas-docs/stable/user_guide/indexing.html#returning-a-view-versus-a-copy\n",
      "  filtered_df['name'] = n_t\n",
      "/tmp/ipykernel_12731/1957008385.py:75: SettingWithCopyWarning: \n",
      "A value is trying to be set on a copy of a slice from a DataFrame.\n",
      "Try using .loc[row_indexer,col_indexer] = value instead\n",
      "\n",
      "See the caveats in the documentation: https://pandas.pydata.org/pandas-docs/stable/user_guide/indexing.html#returning-a-view-versus-a-copy\n",
      "  filtered_df['name'] = filtered_df['name'] +'_'+ filtered_df['time'].astype('str')\n"
     ]
    },
    {
     "name": "stdout",
     "output_type": "stream",
     "text": [
      "bamplot -g hg19 -e 2000 -c 220,220,220:240,240,240:90,90,90:65,65,65:90,90,90:65,65,65:90,90,90:65,65,65:90,90,90:65,65,65 -o /home/ec2-user/IRF4_mm_trn/mm_internal_chip_scripts/figures/MEF2C/ -y UNIFORM -b /data/projects/p300_internal_mm/01_0EWN_0229Kronos_MM1S-No-Treatment-1_H3K18Ac_hs-dm_i02.bam,/data/projects/p300_internal_mm/02_0EWO_0229Kronos_MM1S-No-Treatment-2_H3K18Ac_hs-dm_i04.bam,/data/projects/p300_internal_mm/03_0EWP_0229Kronos_MM1S-KB-1hr-1_H3K18Ac_hs-dm_i05.bam,/data/projects/p300_internal_mm/04_0EWQ_0229Kronos_MM1S-KB-1hr-2_H3K18Ac_hs-dm_i06.bam,/data/projects/p300_internal_mm/05_0EWR_0229Kronos_MM1S-KB-3hr-1_H3K18Ac_hs-dm_i07.bam,/data/projects/p300_internal_mm/06_0EWS_0229Kronos_MM1S-KB-3hr-2_H3K18Ac_hs-dm_i13.bam,/data/projects/p300_internal_mm/07_0EWT_0229Kronos_MM1S-KB-6hr-1_H3K18Ac_hs-dm_i14.bam,/data/projects/p300_internal_mm/08_0EWU_0229Kronos_MM1S-KB-6hr-2_H3K18Ac_hs-dm_i16.bam,/data/projects/p300_internal_mm/09_0EWV_0229Kronos_MM1S-KB-24hr-1_H3K18Ac_hs-dm_i17.bam,/data/projects/p300_internal_mm/10_0EWW_0229Kronos_MM1S-KB-24hr-2_H3K18Ac_hs-dm_i19.bam -i chr5:+:87828193-88385787 -n H3K18Ac_0,H3K18Ac_0,H3K18Ac_1,H3K18Ac_1,H3K18Ac_3,H3K18Ac_3,H3K18Ac_6,H3K18Ac_6,H3K18Ac_24,H3K18Ac_24 -t MEF2C_18Ac_bamplot_MM1S_scale -r --save-temp -p MERGE --scale 0.7693858300672904,0.8787407995838284,0.17000696348522434,0.18971642137914352,0.27327048476544374,0.2787408273362244,0.2433198955865664,0.23995984032112386,0.42962043893461005,0.4169263770557076 \n",
      "\n",
      "\n",
      "null device \n",
      "          1 \n",
      "\tLoading genome data from cache.\n",
      "bamplot -g hg19 -e 2000 -c 220,220,220:240,240,240:90,90,90:65,65,65:90,90,90:65,65,65:90,90,90:65,65,65:90,90,90:65,65,65 -o /home/ec2-user/IRF4_mm_trn/mm_internal_chip_scripts/figures/MEF2C/ -y UNIFORM -b /data/projects/p300_internal_mm/01_0EWN_0229Kronos_MM1S-No-Treatment-1_H3K18Ac_hs-dm_i02.bam,/data/projects/p300_internal_mm/02_0EWO_0229Kronos_MM1S-No-Treatment-2_H3K18Ac_hs-dm_i04.bam,/data/projects/p300_internal_mm/03_0EWP_0229Kronos_MM1S-KB-1hr-1_H3K18Ac_hs-dm_i05.bam,/data/projects/p300_internal_mm/04_0EWQ_0229Kronos_MM1S-KB-1hr-2_H3K18Ac_hs-dm_i06.bam,/data/projects/p300_internal_mm/05_0EWR_0229Kronos_MM1S-KB-3hr-1_H3K18Ac_hs-dm_i07.bam,/data/projects/p300_internal_mm/06_0EWS_0229Kronos_MM1S-KB-3hr-2_H3K18Ac_hs-dm_i13.bam,/data/projects/p300_internal_mm/07_0EWT_0229Kronos_MM1S-KB-6hr-1_H3K18Ac_hs-dm_i14.bam,/data/projects/p300_internal_mm/08_0EWU_0229Kronos_MM1S-KB-6hr-2_H3K18Ac_hs-dm_i16.bam,/data/projects/p300_internal_mm/09_0EWV_0229Kronos_MM1S-KB-24hr-1_H3K18Ac_hs-dm_i17.bam,/data/projects/p300_internal_mm/10_0EWW_0229Kronos_MM1S-KB-24hr-2_H3K18Ac_hs-dm_i19.bam -i chr5:+:87828193-88385787 -n H3K18Ac_0,H3K18Ac_0,H3K18Ac_1,H3K18Ac_1,H3K18Ac_3,H3K18Ac_3,H3K18Ac_6,H3K18Ac_6,H3K18Ac_24,H3K18Ac_24 -t MEF2C_18Ac_bamplot_MM1S_no_scale -r --save-temp -p MERGE \n",
      "\n",
      "\n",
      "null device \n",
      "          1 \n",
      "\tLoading genome data from cache.\n"
     ]
    },
    {
     "name": "stderr",
     "output_type": "stream",
     "text": [
      "/tmp/ipykernel_12731/1957008385.py:62: SettingWithCopyWarning: \n",
      "A value is trying to be set on a copy of a slice from a DataFrame.\n",
      "Try using .loc[row_indexer,col_indexer] = value instead\n",
      "\n",
      "See the caveats in the documentation: https://pandas.pydata.org/pandas-docs/stable/user_guide/indexing.html#returning-a-view-versus-a-copy\n",
      "  filtered_df['sf_mod'] = 1/(filtered_df['Total_Reads_dm3']/1000000)\n",
      "/tmp/ipykernel_12731/1957008385.py:66: SettingWithCopyWarning: \n",
      "A value is trying to be set on a copy of a slice from a DataFrame.\n",
      "Try using .loc[row_indexer,col_indexer] = value instead\n",
      "\n",
      "See the caveats in the documentation: https://pandas.pydata.org/pandas-docs/stable/user_guide/indexing.html#returning-a-view-versus-a-copy\n",
      "  filtered_df['sf_mod'] = 1/(filtered_df['Total_Reads_dm3']/1000000)\n",
      "/tmp/ipykernel_12731/1957008385.py:74: SettingWithCopyWarning: \n",
      "A value is trying to be set on a copy of a slice from a DataFrame.\n",
      "Try using .loc[row_indexer,col_indexer] = value instead\n",
      "\n",
      "See the caveats in the documentation: https://pandas.pydata.org/pandas-docs/stable/user_guide/indexing.html#returning-a-view-versus-a-copy\n",
      "  filtered_df['name'] = n_t\n",
      "/tmp/ipykernel_12731/1957008385.py:75: SettingWithCopyWarning: \n",
      "A value is trying to be set on a copy of a slice from a DataFrame.\n",
      "Try using .loc[row_indexer,col_indexer] = value instead\n",
      "\n",
      "See the caveats in the documentation: https://pandas.pydata.org/pandas-docs/stable/user_guide/indexing.html#returning-a-view-versus-a-copy\n",
      "  filtered_df['name'] = filtered_df['name'] +'_'+ filtered_df['time'].astype('str')\n"
     ]
    },
    {
     "name": "stdout",
     "output_type": "stream",
     "text": [
      "bamplot -g hg19 -e 2000 -c 220,220,220:240,240,240:90,90,90:65,65,65:90,90,90:65,65,65:90,90,90:65,65,65:90,90,90:65,65,65 -o /home/ec2-user/IRF4_mm_trn/mm_internal_chip_scripts/figures/MEF2C/ -y UNIFORM -b /data/projects/p300_internal_mm/11_0EWX_0229Kronos_MM1S-No-Treatment-1_H3K27Ac_hs-dm_i20.bam,/data/projects/p300_internal_mm/12_0EWY_0229Kronos_MM1S-No-Treatment-2_H3K27Ac_hs-dm_i21.bam,/data/projects/p300_internal_mm/13_0EWZ_0229Kronos_MM1S-KB-1hr-1_H3K27Ac_hs-dm_i22.bam,/data/projects/p300_internal_mm/14_0EX0_0229Kronos_MM1S-KB-1hr-2_H3K27Ac_hs-dm_i23.bam,/data/projects/p300_internal_mm/15_0EX1_0229Kronos_MM1S-KB-3hr-1_H3K27Ac_hs-dm_i25.bam,/data/projects/p300_internal_mm/16_0EX2_0229Kronos_MM1S-KB-3hr-2_H3K27Ac_hs-dm_i29.bam,/data/projects/p300_internal_mm/17_0EX3_0229Kronos_MM1S-KB-6hr-1_H3K27Ac_hs-dm_i33.bam,/data/projects/p300_internal_mm/18_0EX4_0229Kronos_MM1S-KB-6hr-2_H3K27Ac_hs-dm_i37.bam,/data/projects/p300_internal_mm/19_0EX5_0229Kronos_MM1S-KB-24hr-1_H3K27Ac_hs-dm_i39.bam,/data/projects/p300_internal_mm/20_0EX6_0229Kronos_MM1S-KB-24hr-2_H3K27Ac_hs-dm_i43.bam -i chr5:+:87828193-88385787 -n H3K27Ac_0,H3K27Ac_0,H3K27Ac_1,H3K27Ac_1,H3K27Ac_3,H3K27Ac_3,H3K27Ac_6,H3K27Ac_6,H3K27Ac_24,H3K27Ac_24 -t MEF2C_27Ac_bamplot_MM1S_scale -r --save-temp -p MERGE --scale 0.39076741640605733,0.41669080000883385,0.14048232921949563,0.13986518674380138,0.16014477087286907,0.19371788399630696,0.18738722802383492,0.1973205448572741,0.24992951987539516,0.25035838803246846 \n",
      "\n",
      "\n",
      "null device \n",
      "          1 \n",
      "\tLoading genome data from cache.\n",
      "bamplot -g hg19 -e 2000 -c 220,220,220:240,240,240:90,90,90:65,65,65:90,90,90:65,65,65:90,90,90:65,65,65:90,90,90:65,65,65 -o /home/ec2-user/IRF4_mm_trn/mm_internal_chip_scripts/figures/MEF2C/ -y UNIFORM -b /data/projects/p300_internal_mm/11_0EWX_0229Kronos_MM1S-No-Treatment-1_H3K27Ac_hs-dm_i20.bam,/data/projects/p300_internal_mm/12_0EWY_0229Kronos_MM1S-No-Treatment-2_H3K27Ac_hs-dm_i21.bam,/data/projects/p300_internal_mm/13_0EWZ_0229Kronos_MM1S-KB-1hr-1_H3K27Ac_hs-dm_i22.bam,/data/projects/p300_internal_mm/14_0EX0_0229Kronos_MM1S-KB-1hr-2_H3K27Ac_hs-dm_i23.bam,/data/projects/p300_internal_mm/15_0EX1_0229Kronos_MM1S-KB-3hr-1_H3K27Ac_hs-dm_i25.bam,/data/projects/p300_internal_mm/16_0EX2_0229Kronos_MM1S-KB-3hr-2_H3K27Ac_hs-dm_i29.bam,/data/projects/p300_internal_mm/17_0EX3_0229Kronos_MM1S-KB-6hr-1_H3K27Ac_hs-dm_i33.bam,/data/projects/p300_internal_mm/18_0EX4_0229Kronos_MM1S-KB-6hr-2_H3K27Ac_hs-dm_i37.bam,/data/projects/p300_internal_mm/19_0EX5_0229Kronos_MM1S-KB-24hr-1_H3K27Ac_hs-dm_i39.bam,/data/projects/p300_internal_mm/20_0EX6_0229Kronos_MM1S-KB-24hr-2_H3K27Ac_hs-dm_i43.bam -i chr5:+:87828193-88385787 -n H3K27Ac_0,H3K27Ac_0,H3K27Ac_1,H3K27Ac_1,H3K27Ac_3,H3K27Ac_3,H3K27Ac_6,H3K27Ac_6,H3K27Ac_24,H3K27Ac_24 -t MEF2C_27Ac_bamplot_MM1S_no_scale -r --save-temp -p MERGE \n",
      "\n",
      "\n",
      "null device \n",
      "          1 \n",
      "\tLoading genome data from cache.\n"
     ]
    },
    {
     "name": "stderr",
     "output_type": "stream",
     "text": [
      "/tmp/ipykernel_12731/1957008385.py:62: SettingWithCopyWarning: \n",
      "A value is trying to be set on a copy of a slice from a DataFrame.\n",
      "Try using .loc[row_indexer,col_indexer] = value instead\n",
      "\n",
      "See the caveats in the documentation: https://pandas.pydata.org/pandas-docs/stable/user_guide/indexing.html#returning-a-view-versus-a-copy\n",
      "  filtered_df['sf_mod'] = 1/(filtered_df['Total_Reads_dm3']/1000000)\n",
      "/tmp/ipykernel_12731/1957008385.py:66: SettingWithCopyWarning: \n",
      "A value is trying to be set on a copy of a slice from a DataFrame.\n",
      "Try using .loc[row_indexer,col_indexer] = value instead\n",
      "\n",
      "See the caveats in the documentation: https://pandas.pydata.org/pandas-docs/stable/user_guide/indexing.html#returning-a-view-versus-a-copy\n",
      "  filtered_df['sf_mod'] = 1/(filtered_df['Total_Reads_dm3']/1000000)\n",
      "/tmp/ipykernel_12731/1957008385.py:74: SettingWithCopyWarning: \n",
      "A value is trying to be set on a copy of a slice from a DataFrame.\n",
      "Try using .loc[row_indexer,col_indexer] = value instead\n",
      "\n",
      "See the caveats in the documentation: https://pandas.pydata.org/pandas-docs/stable/user_guide/indexing.html#returning-a-view-versus-a-copy\n",
      "  filtered_df['name'] = n_t\n",
      "/tmp/ipykernel_12731/1957008385.py:75: SettingWithCopyWarning: \n",
      "A value is trying to be set on a copy of a slice from a DataFrame.\n",
      "Try using .loc[row_indexer,col_indexer] = value instead\n",
      "\n",
      "See the caveats in the documentation: https://pandas.pydata.org/pandas-docs/stable/user_guide/indexing.html#returning-a-view-versus-a-copy\n",
      "  filtered_df['name'] = filtered_df['name'] +'_'+ filtered_df['time'].astype('str')\n"
     ]
    },
    {
     "name": "stdout",
     "output_type": "stream",
     "text": [
      "bamplot -g hg19 -e 2000 -c 220,220,220:240,240,240:90,90,90:65,65,65:90,90,90:65,65,65:90,90,90:65,65,65:90,90,90:65,65,65 -o /home/ec2-user/IRF4_mm_trn/mm_internal_chip_scripts/figures/MEF2C/ -y UNIFORM -b /data/projects/p300_internal_mm/21_0F27_0229Kronos_MM1S-No-Treatment-1_H3K27me3_hs-dm_i02.bam,/data/projects/p300_internal_mm/22_0F28_0229Kronos_MM1S-No-Treatment-2_H3K27me3_hs-dm_i04.bam,/data/projects/p300_internal_mm/23_0F29_0229Kronos_MM1S-KB-1hr-1_H3K27me3_hs-dm_i05.bam,/data/projects/p300_internal_mm/24_0F2A_0229Kronos_MM1S-KB-1hr-2_H3K27me3_hs-dm_i06.bam,/data/projects/p300_internal_mm/25_0F2B_0229Kronos_MM1S-KB-3hr-1_H3K27me3_hs-dm_i07.bam,/data/projects/p300_internal_mm/26_0F2C_0229Kronos_MM1S-KB-3hr-2_H3K27me3_hs-dm_i13.bam,/data/projects/p300_internal_mm/27_0F2D_0229Kronos_MM1S-KB-6hr-1_H3K27me3_hs-dm_i14.bam,/data/projects/p300_internal_mm/28_0F2E_0229Kronos_MM1S-KB-6hr-2_H3K27me3_hs-dm_i16.bam,/data/projects/p300_internal_mm/29_0F2F_0229Kronos_MM1S-KB-24hr-1_H3K27me3_hs-dm_i17.bam,/data/projects/p300_internal_mm/30_0F2G_0229Kronos_MM1S-KB-24hr-2_H3K27me3_hs-dm_i19.bam -i chr5:+:87828193-88385787 -n H3K27me3_0,H3K27me3_0,H3K27me3_1,H3K27me3_1,H3K27me3_3,H3K27me3_3,H3K27me3_6,H3K27me3_6,H3K27me3_24,H3K27me3_24 -t MEF2C_27me3_bamplot_MM1S_scale -r --save-temp -p MERGE --scale 0.2228406793877497,0.2060126438200018,0.18245731319929046,0.19463867762482423,0.2293443846747495,0.28748188864101565,0.2047320538535384,0.1740483471498713,0.2451379342128229,0.23586574521782203 \n",
      "\n",
      "\n",
      "null device \n",
      "          1 \n",
      "\tLoading genome data from cache.\n",
      "bamplot -g hg19 -e 2000 -c 220,220,220:240,240,240:90,90,90:65,65,65:90,90,90:65,65,65:90,90,90:65,65,65:90,90,90:65,65,65 -o /home/ec2-user/IRF4_mm_trn/mm_internal_chip_scripts/figures/MEF2C/ -y UNIFORM -b /data/projects/p300_internal_mm/21_0F27_0229Kronos_MM1S-No-Treatment-1_H3K27me3_hs-dm_i02.bam,/data/projects/p300_internal_mm/22_0F28_0229Kronos_MM1S-No-Treatment-2_H3K27me3_hs-dm_i04.bam,/data/projects/p300_internal_mm/23_0F29_0229Kronos_MM1S-KB-1hr-1_H3K27me3_hs-dm_i05.bam,/data/projects/p300_internal_mm/24_0F2A_0229Kronos_MM1S-KB-1hr-2_H3K27me3_hs-dm_i06.bam,/data/projects/p300_internal_mm/25_0F2B_0229Kronos_MM1S-KB-3hr-1_H3K27me3_hs-dm_i07.bam,/data/projects/p300_internal_mm/26_0F2C_0229Kronos_MM1S-KB-3hr-2_H3K27me3_hs-dm_i13.bam,/data/projects/p300_internal_mm/27_0F2D_0229Kronos_MM1S-KB-6hr-1_H3K27me3_hs-dm_i14.bam,/data/projects/p300_internal_mm/28_0F2E_0229Kronos_MM1S-KB-6hr-2_H3K27me3_hs-dm_i16.bam,/data/projects/p300_internal_mm/29_0F2F_0229Kronos_MM1S-KB-24hr-1_H3K27me3_hs-dm_i17.bam,/data/projects/p300_internal_mm/30_0F2G_0229Kronos_MM1S-KB-24hr-2_H3K27me3_hs-dm_i19.bam -i chr5:+:87828193-88385787 -n H3K27me3_0,H3K27me3_0,H3K27me3_1,H3K27me3_1,H3K27me3_3,H3K27me3_3,H3K27me3_6,H3K27me3_6,H3K27me3_24,H3K27me3_24 -t MEF2C_27me3_bamplot_MM1S_no_scale -r --save-temp -p MERGE \n",
      "\n",
      "\n",
      "null device \n",
      "          1 \n",
      "\tLoading genome data from cache.\n"
     ]
    }
   ],
   "source": [
    "region = \"chr5:+:87828193-88385787\"\n",
    "gene =\"MEF2C\"\n",
    "bamplot_cmd(gene,region)"
   ]
  },
  {
   "cell_type": "code",
   "execution_count": 9,
   "id": "eecd5a2e-d3fd-40b6-911d-fc65ff802b29",
   "metadata": {
    "tags": []
   },
   "outputs": [
    {
     "name": "stderr",
     "output_type": "stream",
     "text": [
      "/tmp/ipykernel_12731/1957008385.py:62: SettingWithCopyWarning: \n",
      "A value is trying to be set on a copy of a slice from a DataFrame.\n",
      "Try using .loc[row_indexer,col_indexer] = value instead\n",
      "\n",
      "See the caveats in the documentation: https://pandas.pydata.org/pandas-docs/stable/user_guide/indexing.html#returning-a-view-versus-a-copy\n",
      "  filtered_df['sf_mod'] = 1/(filtered_df['Total_Reads_dm3']/1000000)\n",
      "/tmp/ipykernel_12731/1957008385.py:66: SettingWithCopyWarning: \n",
      "A value is trying to be set on a copy of a slice from a DataFrame.\n",
      "Try using .loc[row_indexer,col_indexer] = value instead\n",
      "\n",
      "See the caveats in the documentation: https://pandas.pydata.org/pandas-docs/stable/user_guide/indexing.html#returning-a-view-versus-a-copy\n",
      "  filtered_df['sf_mod'] = 1/(filtered_df['Total_Reads_dm3']/1000000)\n",
      "/tmp/ipykernel_12731/1957008385.py:74: SettingWithCopyWarning: \n",
      "A value is trying to be set on a copy of a slice from a DataFrame.\n",
      "Try using .loc[row_indexer,col_indexer] = value instead\n",
      "\n",
      "See the caveats in the documentation: https://pandas.pydata.org/pandas-docs/stable/user_guide/indexing.html#returning-a-view-versus-a-copy\n",
      "  filtered_df['name'] = n_t\n"
     ]
    },
    {
     "name": "stdout",
     "output_type": "stream",
     "text": [
      "bamplot -g hg19 -e 2000 -c 220,220,220:240,240,240:90,90,90:65,65,65:90,90,90:65,65,65:90,90,90:65,65,65:90,90,90:65,65,65 -o /home/ec2-user/IRF4_mm_trn/mm_internal_chip_scripts/figures/IKZF3/ -y UNIFORM -b /data/projects/p300_internal_mm/01_0EWN_0229Kronos_MM1S-No-Treatment-1_H3K18Ac_hs-dm_i02.bam,/data/projects/p300_internal_mm/02_0EWO_0229Kronos_MM1S-No-Treatment-2_H3K18Ac_hs-dm_i04.bam,/data/projects/p300_internal_mm/03_0EWP_0229Kronos_MM1S-KB-1hr-1_H3K18Ac_hs-dm_i05.bam,/data/projects/p300_internal_mm/04_0EWQ_0229Kronos_MM1S-KB-1hr-2_H3K18Ac_hs-dm_i06.bam,/data/projects/p300_internal_mm/05_0EWR_0229Kronos_MM1S-KB-3hr-1_H3K18Ac_hs-dm_i07.bam,/data/projects/p300_internal_mm/06_0EWS_0229Kronos_MM1S-KB-3hr-2_H3K18Ac_hs-dm_i13.bam,/data/projects/p300_internal_mm/07_0EWT_0229Kronos_MM1S-KB-6hr-1_H3K18Ac_hs-dm_i14.bam,/data/projects/p300_internal_mm/08_0EWU_0229Kronos_MM1S-KB-6hr-2_H3K18Ac_hs-dm_i16.bam,/data/projects/p300_internal_mm/09_0EWV_0229Kronos_MM1S-KB-24hr-1_H3K18Ac_hs-dm_i17.bam,/data/projects/p300_internal_mm/10_0EWW_0229Kronos_MM1S-KB-24hr-2_H3K18Ac_hs-dm_i19.bam -i chr17:+:37847100-38060047 -n H3K18Ac_0,H3K18Ac_0,H3K18Ac_1,H3K18Ac_1,H3K18Ac_3,H3K18Ac_3,H3K18Ac_6,H3K18Ac_6,H3K18Ac_24,H3K18Ac_24 -t IKZF3_18Ac_bamplot_MM1S_scale -r --save-temp -p MERGE --scale 0.7693858300672904,0.8787407995838284,0.17000696348522434,0.18971642137914352,0.27327048476544374,0.2787408273362244,0.2433198955865664,0.23995984032112386,0.42962043893461005,0.4169263770557076 \n",
      "\n",
      "\n",
      "null device \n",
      "          1 \n",
      "\tLoading genome data from cache.\n",
      "bamplot -g hg19 -e 2000 -c 220,220,220:240,240,240:90,90,90:65,65,65:90,90,90:65,65,65:90,90,90:65,65,65:90,90,90:65,65,65 -o /home/ec2-user/IRF4_mm_trn/mm_internal_chip_scripts/figures/IKZF3/ -y UNIFORM -b /data/projects/p300_internal_mm/01_0EWN_0229Kronos_MM1S-No-Treatment-1_H3K18Ac_hs-dm_i02.bam,/data/projects/p300_internal_mm/02_0EWO_0229Kronos_MM1S-No-Treatment-2_H3K18Ac_hs-dm_i04.bam,/data/projects/p300_internal_mm/03_0EWP_0229Kronos_MM1S-KB-1hr-1_H3K18Ac_hs-dm_i05.bam,/data/projects/p300_internal_mm/04_0EWQ_0229Kronos_MM1S-KB-1hr-2_H3K18Ac_hs-dm_i06.bam,/data/projects/p300_internal_mm/05_0EWR_0229Kronos_MM1S-KB-3hr-1_H3K18Ac_hs-dm_i07.bam,/data/projects/p300_internal_mm/06_0EWS_0229Kronos_MM1S-KB-3hr-2_H3K18Ac_hs-dm_i13.bam,/data/projects/p300_internal_mm/07_0EWT_0229Kronos_MM1S-KB-6hr-1_H3K18Ac_hs-dm_i14.bam,/data/projects/p300_internal_mm/08_0EWU_0229Kronos_MM1S-KB-6hr-2_H3K18Ac_hs-dm_i16.bam,/data/projects/p300_internal_mm/09_0EWV_0229Kronos_MM1S-KB-24hr-1_H3K18Ac_hs-dm_i17.bam,/data/projects/p300_internal_mm/10_0EWW_0229Kronos_MM1S-KB-24hr-2_H3K18Ac_hs-dm_i19.bam -i chr17:+:37847100-38060047 -n H3K18Ac_0,H3K18Ac_0,H3K18Ac_1,H3K18Ac_1,H3K18Ac_3,H3K18Ac_3,H3K18Ac_6,H3K18Ac_6,H3K18Ac_24,H3K18Ac_24 -t IKZF3_18Ac_bamplot_MM1S_no_scale -r --save-temp -p MERGE \n",
      "\n",
      "\n",
      "null device \n",
      "          1 \n",
      "\tLoading genome data from cache.\n"
     ]
    },
    {
     "name": "stderr",
     "output_type": "stream",
     "text": [
      "/tmp/ipykernel_12731/1957008385.py:62: SettingWithCopyWarning: \n",
      "A value is trying to be set on a copy of a slice from a DataFrame.\n",
      "Try using .loc[row_indexer,col_indexer] = value instead\n",
      "\n",
      "See the caveats in the documentation: https://pandas.pydata.org/pandas-docs/stable/user_guide/indexing.html#returning-a-view-versus-a-copy\n",
      "  filtered_df['sf_mod'] = 1/(filtered_df['Total_Reads_dm3']/1000000)\n",
      "/tmp/ipykernel_12731/1957008385.py:66: SettingWithCopyWarning: \n",
      "A value is trying to be set on a copy of a slice from a DataFrame.\n",
      "Try using .loc[row_indexer,col_indexer] = value instead\n",
      "\n",
      "See the caveats in the documentation: https://pandas.pydata.org/pandas-docs/stable/user_guide/indexing.html#returning-a-view-versus-a-copy\n",
      "  filtered_df['sf_mod'] = 1/(filtered_df['Total_Reads_dm3']/1000000)\n",
      "/tmp/ipykernel_12731/1957008385.py:74: SettingWithCopyWarning: \n",
      "A value is trying to be set on a copy of a slice from a DataFrame.\n",
      "Try using .loc[row_indexer,col_indexer] = value instead\n",
      "\n",
      "See the caveats in the documentation: https://pandas.pydata.org/pandas-docs/stable/user_guide/indexing.html#returning-a-view-versus-a-copy\n",
      "  filtered_df['name'] = n_t\n",
      "/tmp/ipykernel_12731/1957008385.py:75: SettingWithCopyWarning: \n",
      "A value is trying to be set on a copy of a slice from a DataFrame.\n",
      "Try using .loc[row_indexer,col_indexer] = value instead\n",
      "\n",
      "See the caveats in the documentation: https://pandas.pydata.org/pandas-docs/stable/user_guide/indexing.html#returning-a-view-versus-a-copy\n",
      "  filtered_df['name'] = filtered_df['name'] +'_'+ filtered_df['time'].astype('str')\n"
     ]
    },
    {
     "name": "stdout",
     "output_type": "stream",
     "text": [
      "bamplot -g hg19 -e 2000 -c 220,220,220:240,240,240:90,90,90:65,65,65:90,90,90:65,65,65:90,90,90:65,65,65:90,90,90:65,65,65 -o /home/ec2-user/IRF4_mm_trn/mm_internal_chip_scripts/figures/IKZF3/ -y UNIFORM -b /data/projects/p300_internal_mm/11_0EWX_0229Kronos_MM1S-No-Treatment-1_H3K27Ac_hs-dm_i20.bam,/data/projects/p300_internal_mm/12_0EWY_0229Kronos_MM1S-No-Treatment-2_H3K27Ac_hs-dm_i21.bam,/data/projects/p300_internal_mm/13_0EWZ_0229Kronos_MM1S-KB-1hr-1_H3K27Ac_hs-dm_i22.bam,/data/projects/p300_internal_mm/14_0EX0_0229Kronos_MM1S-KB-1hr-2_H3K27Ac_hs-dm_i23.bam,/data/projects/p300_internal_mm/15_0EX1_0229Kronos_MM1S-KB-3hr-1_H3K27Ac_hs-dm_i25.bam,/data/projects/p300_internal_mm/16_0EX2_0229Kronos_MM1S-KB-3hr-2_H3K27Ac_hs-dm_i29.bam,/data/projects/p300_internal_mm/17_0EX3_0229Kronos_MM1S-KB-6hr-1_H3K27Ac_hs-dm_i33.bam,/data/projects/p300_internal_mm/18_0EX4_0229Kronos_MM1S-KB-6hr-2_H3K27Ac_hs-dm_i37.bam,/data/projects/p300_internal_mm/19_0EX5_0229Kronos_MM1S-KB-24hr-1_H3K27Ac_hs-dm_i39.bam,/data/projects/p300_internal_mm/20_0EX6_0229Kronos_MM1S-KB-24hr-2_H3K27Ac_hs-dm_i43.bam -i chr17:+:37847100-38060047 -n H3K27Ac_0,H3K27Ac_0,H3K27Ac_1,H3K27Ac_1,H3K27Ac_3,H3K27Ac_3,H3K27Ac_6,H3K27Ac_6,H3K27Ac_24,H3K27Ac_24 -t IKZF3_27Ac_bamplot_MM1S_scale -r --save-temp -p MERGE --scale 0.39076741640605733,0.41669080000883385,0.14048232921949563,0.13986518674380138,0.16014477087286907,0.19371788399630696,0.18738722802383492,0.1973205448572741,0.24992951987539516,0.25035838803246846 \n",
      "\n",
      "\n",
      "null device \n",
      "          1 \n",
      "\tLoading genome data from cache.\n",
      "bamplot -g hg19 -e 2000 -c 220,220,220:240,240,240:90,90,90:65,65,65:90,90,90:65,65,65:90,90,90:65,65,65:90,90,90:65,65,65 -o /home/ec2-user/IRF4_mm_trn/mm_internal_chip_scripts/figures/IKZF3/ -y UNIFORM -b /data/projects/p300_internal_mm/11_0EWX_0229Kronos_MM1S-No-Treatment-1_H3K27Ac_hs-dm_i20.bam,/data/projects/p300_internal_mm/12_0EWY_0229Kronos_MM1S-No-Treatment-2_H3K27Ac_hs-dm_i21.bam,/data/projects/p300_internal_mm/13_0EWZ_0229Kronos_MM1S-KB-1hr-1_H3K27Ac_hs-dm_i22.bam,/data/projects/p300_internal_mm/14_0EX0_0229Kronos_MM1S-KB-1hr-2_H3K27Ac_hs-dm_i23.bam,/data/projects/p300_internal_mm/15_0EX1_0229Kronos_MM1S-KB-3hr-1_H3K27Ac_hs-dm_i25.bam,/data/projects/p300_internal_mm/16_0EX2_0229Kronos_MM1S-KB-3hr-2_H3K27Ac_hs-dm_i29.bam,/data/projects/p300_internal_mm/17_0EX3_0229Kronos_MM1S-KB-6hr-1_H3K27Ac_hs-dm_i33.bam,/data/projects/p300_internal_mm/18_0EX4_0229Kronos_MM1S-KB-6hr-2_H3K27Ac_hs-dm_i37.bam,/data/projects/p300_internal_mm/19_0EX5_0229Kronos_MM1S-KB-24hr-1_H3K27Ac_hs-dm_i39.bam,/data/projects/p300_internal_mm/20_0EX6_0229Kronos_MM1S-KB-24hr-2_H3K27Ac_hs-dm_i43.bam -i chr17:+:37847100-38060047 -n H3K27Ac_0,H3K27Ac_0,H3K27Ac_1,H3K27Ac_1,H3K27Ac_3,H3K27Ac_3,H3K27Ac_6,H3K27Ac_6,H3K27Ac_24,H3K27Ac_24 -t IKZF3_27Ac_bamplot_MM1S_no_scale -r --save-temp -p MERGE \n",
      "\n",
      "\n",
      "null device \n",
      "          1 \n",
      "\tLoading genome data from cache.\n"
     ]
    },
    {
     "name": "stderr",
     "output_type": "stream",
     "text": [
      "/tmp/ipykernel_12731/1957008385.py:62: SettingWithCopyWarning: \n",
      "A value is trying to be set on a copy of a slice from a DataFrame.\n",
      "Try using .loc[row_indexer,col_indexer] = value instead\n",
      "\n",
      "See the caveats in the documentation: https://pandas.pydata.org/pandas-docs/stable/user_guide/indexing.html#returning-a-view-versus-a-copy\n",
      "  filtered_df['sf_mod'] = 1/(filtered_df['Total_Reads_dm3']/1000000)\n",
      "/tmp/ipykernel_12731/1957008385.py:66: SettingWithCopyWarning: \n",
      "A value is trying to be set on a copy of a slice from a DataFrame.\n",
      "Try using .loc[row_indexer,col_indexer] = value instead\n",
      "\n",
      "See the caveats in the documentation: https://pandas.pydata.org/pandas-docs/stable/user_guide/indexing.html#returning-a-view-versus-a-copy\n",
      "  filtered_df['sf_mod'] = 1/(filtered_df['Total_Reads_dm3']/1000000)\n",
      "/tmp/ipykernel_12731/1957008385.py:74: SettingWithCopyWarning: \n",
      "A value is trying to be set on a copy of a slice from a DataFrame.\n",
      "Try using .loc[row_indexer,col_indexer] = value instead\n",
      "\n",
      "See the caveats in the documentation: https://pandas.pydata.org/pandas-docs/stable/user_guide/indexing.html#returning-a-view-versus-a-copy\n",
      "  filtered_df['name'] = n_t\n",
      "/tmp/ipykernel_12731/1957008385.py:75: SettingWithCopyWarning: \n",
      "A value is trying to be set on a copy of a slice from a DataFrame.\n",
      "Try using .loc[row_indexer,col_indexer] = value instead\n",
      "\n",
      "See the caveats in the documentation: https://pandas.pydata.org/pandas-docs/stable/user_guide/indexing.html#returning-a-view-versus-a-copy\n",
      "  filtered_df['name'] = filtered_df['name'] +'_'+ filtered_df['time'].astype('str')\n"
     ]
    },
    {
     "name": "stdout",
     "output_type": "stream",
     "text": [
      "bamplot -g hg19 -e 2000 -c 220,220,220:240,240,240:90,90,90:65,65,65:90,90,90:65,65,65:90,90,90:65,65,65:90,90,90:65,65,65 -o /home/ec2-user/IRF4_mm_trn/mm_internal_chip_scripts/figures/IKZF3/ -y UNIFORM -b /data/projects/p300_internal_mm/21_0F27_0229Kronos_MM1S-No-Treatment-1_H3K27me3_hs-dm_i02.bam,/data/projects/p300_internal_mm/22_0F28_0229Kronos_MM1S-No-Treatment-2_H3K27me3_hs-dm_i04.bam,/data/projects/p300_internal_mm/23_0F29_0229Kronos_MM1S-KB-1hr-1_H3K27me3_hs-dm_i05.bam,/data/projects/p300_internal_mm/24_0F2A_0229Kronos_MM1S-KB-1hr-2_H3K27me3_hs-dm_i06.bam,/data/projects/p300_internal_mm/25_0F2B_0229Kronos_MM1S-KB-3hr-1_H3K27me3_hs-dm_i07.bam,/data/projects/p300_internal_mm/26_0F2C_0229Kronos_MM1S-KB-3hr-2_H3K27me3_hs-dm_i13.bam,/data/projects/p300_internal_mm/27_0F2D_0229Kronos_MM1S-KB-6hr-1_H3K27me3_hs-dm_i14.bam,/data/projects/p300_internal_mm/28_0F2E_0229Kronos_MM1S-KB-6hr-2_H3K27me3_hs-dm_i16.bam,/data/projects/p300_internal_mm/29_0F2F_0229Kronos_MM1S-KB-24hr-1_H3K27me3_hs-dm_i17.bam,/data/projects/p300_internal_mm/30_0F2G_0229Kronos_MM1S-KB-24hr-2_H3K27me3_hs-dm_i19.bam -i chr17:+:37847100-38060047 -n H3K27me3_0,H3K27me3_0,H3K27me3_1,H3K27me3_1,H3K27me3_3,H3K27me3_3,H3K27me3_6,H3K27me3_6,H3K27me3_24,H3K27me3_24 -t IKZF3_27me3_bamplot_MM1S_scale -r --save-temp -p MERGE --scale 0.2228406793877497,0.2060126438200018,0.18245731319929046,0.19463867762482423,0.2293443846747495,0.28748188864101565,0.2047320538535384,0.1740483471498713,0.2451379342128229,0.23586574521782203 \n",
      "\n",
      "\n",
      "null device \n",
      "          1 \n",
      "\tLoading genome data from cache.\n",
      "bamplot -g hg19 -e 2000 -c 220,220,220:240,240,240:90,90,90:65,65,65:90,90,90:65,65,65:90,90,90:65,65,65:90,90,90:65,65,65 -o /home/ec2-user/IRF4_mm_trn/mm_internal_chip_scripts/figures/IKZF3/ -y UNIFORM -b /data/projects/p300_internal_mm/21_0F27_0229Kronos_MM1S-No-Treatment-1_H3K27me3_hs-dm_i02.bam,/data/projects/p300_internal_mm/22_0F28_0229Kronos_MM1S-No-Treatment-2_H3K27me3_hs-dm_i04.bam,/data/projects/p300_internal_mm/23_0F29_0229Kronos_MM1S-KB-1hr-1_H3K27me3_hs-dm_i05.bam,/data/projects/p300_internal_mm/24_0F2A_0229Kronos_MM1S-KB-1hr-2_H3K27me3_hs-dm_i06.bam,/data/projects/p300_internal_mm/25_0F2B_0229Kronos_MM1S-KB-3hr-1_H3K27me3_hs-dm_i07.bam,/data/projects/p300_internal_mm/26_0F2C_0229Kronos_MM1S-KB-3hr-2_H3K27me3_hs-dm_i13.bam,/data/projects/p300_internal_mm/27_0F2D_0229Kronos_MM1S-KB-6hr-1_H3K27me3_hs-dm_i14.bam,/data/projects/p300_internal_mm/28_0F2E_0229Kronos_MM1S-KB-6hr-2_H3K27me3_hs-dm_i16.bam,/data/projects/p300_internal_mm/29_0F2F_0229Kronos_MM1S-KB-24hr-1_H3K27me3_hs-dm_i17.bam,/data/projects/p300_internal_mm/30_0F2G_0229Kronos_MM1S-KB-24hr-2_H3K27me3_hs-dm_i19.bam -i chr17:+:37847100-38060047 -n H3K27me3_0,H3K27me3_0,H3K27me3_1,H3K27me3_1,H3K27me3_3,H3K27me3_3,H3K27me3_6,H3K27me3_6,H3K27me3_24,H3K27me3_24 -t IKZF3_27me3_bamplot_MM1S_no_scale -r --save-temp -p MERGE \n",
      "\n",
      "\n",
      "null device \n",
      "          1 \n",
      "\tLoading genome data from cache.\n"
     ]
    }
   ],
   "source": [
    "region = \"chr17:+:37847100-38060047\"\n",
    "gene =\"IKZF3\"\n",
    "bamplot_cmd(gene,region)"
   ]
  },
  {
   "cell_type": "code",
   "execution_count": null,
   "id": "8fa427f6-35e0-46cb-a6b2-b6a08bc7b142",
   "metadata": {},
   "outputs": [],
   "source": []
  }
 ],
 "metadata": {
  "kernelspec": {
   "display_name": "my_env",
   "language": "python",
   "name": "my_env"
  },
  "language_info": {
   "codemirror_mode": {
    "name": "ipython",
    "version": 3
   },
   "file_extension": ".py",
   "mimetype": "text/x-python",
   "name": "python",
   "nbconvert_exporter": "python",
   "pygments_lexer": "ipython3",
   "version": "3.10.4"
  }
 },
 "nbformat": 4,
 "nbformat_minor": 5
}
